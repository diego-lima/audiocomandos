{
 "cells": [
  {
   "cell_type": "code",
   "execution_count": 1,
   "metadata": {},
   "outputs": [],
   "source": [
    "from random import random\n",
    "from funcoes import sigmoid\n",
    "import numpy as np"
   ]
  },
  {
   "cell_type": "code",
   "execution_count": 2,
   "metadata": {},
   "outputs": [],
   "source": [
    "\"\"\"\n",
    "CONFIGURAÇÕES: \n",
    "\n",
    "quantidade de camadas,\n",
    "quantidade de neurônios em cada camada,\n",
    "função de ativação\n",
    "\"\"\"\n",
    "\n",
    "dimensoes_camadas = [2,2,1]\n"
   ]
  },
  {
   "cell_type": "code",
   "execution_count": 3,
   "metadata": {},
   "outputs": [],
   "source": [
    "dados = [\n",
    "    [0,0],\n",
    "    [0,1],\n",
    "    [1,0],\n",
    "    [1,1]\n",
    "]\n",
    "\n",
    "y = [\n",
    "    0,\n",
    "    1,\n",
    "    1,\n",
    "    0\n",
    "]"
   ]
  },
  {
   "cell_type": "code",
   "execution_count": 10,
   "metadata": {},
   "outputs": [],
   "source": [
    "def gerar_um_peso():\n",
    "    \"\"\"Sorteia um número entre -1 e 1\"\"\"\n",
    "    sinal, numero = random(), random()\n",
    "    \n",
    "    if sinal >= 0.5:\n",
    "        return numero\n",
    "    else:\n",
    "        return -numero\n",
    "    \n",
    "def gerar_N_pesos(n):\n",
    "    \"\"\"Gera um array de números sorteados\"\"\"\n",
    "    return np.array([gerar_um_peso() for i in range(n)])\n",
    "\n",
    "def gerar_rede(dimensoes):\n",
    "    \"\"\"\n",
    "    Recebe a quantidade de neurônios em cada camada\n",
    "    Gera pesos aleatoriamente.\n",
    "    \n",
    "    Observação: camadas de neurônios é uma coisa, camada de pesos é outra\n",
    "    se eu tiver duas camadas de neurônios, eu tenho uma camada de pesos, que \n",
    "    liga essas duas camadas de neurônios\n",
    "    \n",
    "    O retorno é no formato\n",
    "    \n",
    "    [ <-- no primeiro nível, temos uma lista de camadas de pesos\n",
    "    \n",
    "        [ <-- para cada camada, temos uma lista de neurônios\n",
    "        \n",
    "            [ <-- para cada neurônio, temos uma lista de pesos\n",
    "            \n",
    "                0.2, 0.1, ...\n",
    "            ]\n",
    "        ]\n",
    "    ]\n",
    "    \n",
    "    exemplo: gerar_rede([1,1]) gera pesos para uma rede com duas camadas de neurônios,\n",
    "    com um neurônio em cada camada. Se temos duas camadas de neurônios, vamos ter uma camada\n",
    "    de pesos.\n",
    "    \n",
    "    Resultado:\n",
    "    rede = gerar_rede([1,1])  # [[[0.5]]], que é uma lista de camadas\n",
    "    print(rede[0])            # [[0.5]]  , que é a lista de neurônios para a primeira camada\n",
    "    print(rede[0][0])         # [0.5]    , que é a lista de pesos para o primeiro neurônio na primeira camada\n",
    "    print(rede[0][0][0])      # 0.5      , que é o primeiro peso do primeiro neurônio da primeira camada\n",
    "    \"\"\"\n",
    "    rede = []\n",
    "    \n",
    "    for dim in range(1, len(dimensoes)):\n",
    "        rede.append(np.array([gerar_N_pesos(dimensoes[dim-1]) for i in range(dimensoes[dim])]))\n",
    "        \n",
    "    return np.array(rede)\n",
    "\n",
    "def printar_rede(rede):\n",
    "    \"\"\"Printa as camadas de pesos da rede\"\"\"\n",
    "    \n",
    "    for i,camada in enumerate(rede):\n",
    "        print(\"Camada %d:\" % i)\n",
    "        for j,neuronio in enumerate(camada):\n",
    "            print(\"\\tNeurônio %d:\" % j)\n",
    "            for w, peso in enumerate(neuronio):\n",
    "                print(\"\\t\\tPeso %d:  %.3f\" % (w, peso))\n",
    "                \n",
    "def forward(rede, entrada):\n",
    "    \"\"\"\n",
    "    Pega a entrada, e faz todos os cálculos pra obter a saída\n",
    "    Ou seja, faz as multiplicações pelos pesos, joga nas funções\n",
    "    de ativação, e passa em todas camadas, pra retornar o que sobra\n",
    "    na camada de saída\n",
    "    \"\"\"\n",
    "    \n",
    "    dados = entrada\n",
    "    \n",
    "    for camada in rede:\n",
    "        # Aplica a soma ponderada pelos pesos\n",
    "        dados = np.sum(dados * camada, axis=1)\n",
    "        \n",
    "        # Aplica a função de ativação\n",
    "        dados = sigmoid(dados)\n",
    "    \n",
    "    return dados\n",
    "    "
   ]
  },
  {
   "cell_type": "code",
   "execution_count": 30,
   "metadata": {},
   "outputs": [
    {
     "name": "stdout",
     "output_type": "stream",
     "text": [
      "Camada 0:\n",
      "\tNeurônio 0:\n",
      "\t\tPeso 0:  0.188\n",
      "\t\tPeso 1:  0.353\n",
      "\tNeurônio 1:\n",
      "\t\tPeso 0:  -0.977\n",
      "\t\tPeso 1:  0.815\n"
     ]
    }
   ],
   "source": [
    "rede = gerar_rede([2,2])\n",
    "printar_rede(rede)"
   ]
  },
  {
   "cell_type": "code",
   "execution_count": 31,
   "metadata": {},
   "outputs": [
    {
     "data": {
      "text/plain": [
       "array([[ 0.18793341,  0.35287888],\n",
       "       [-0.97685521,  0.81468368]])"
      ]
     },
     "execution_count": 31,
     "metadata": {},
     "output_type": "execute_result"
    }
   ],
   "source": [
    "a = np.array([1,2])\n",
    "rede[0]"
   ]
  },
  {
   "cell_type": "code",
   "execution_count": 32,
   "metadata": {},
   "outputs": [
    {
     "data": {
      "text/plain": [
       "array([0.89369118, 0.65251216])"
      ]
     },
     "execution_count": 32,
     "metadata": {},
     "output_type": "execute_result"
    }
   ],
   "source": [
    "np.sum(a*rede[0], axis=1)"
   ]
  },
  {
   "cell_type": "code",
   "execution_count": 34,
   "metadata": {},
   "outputs": [
    {
     "data": {
      "text/plain": [
       "array([0.70965131, 0.65757635])"
      ]
     },
     "execution_count": 34,
     "metadata": {},
     "output_type": "execute_result"
    }
   ],
   "source": [
    "forward(rede, a)"
   ]
  },
  {
   "cell_type": "code",
   "execution_count": 15,
   "metadata": {},
   "outputs": [
    {
     "data": {
      "text/plain": [
       "0.619729440865097"
      ]
     },
     "execution_count": 15,
     "metadata": {},
     "output_type": "execute_result"
    }
   ],
   "source": [
    "sigmoid(0.4884)"
   ]
  },
  {
   "cell_type": "code",
   "execution_count": 26,
   "metadata": {},
   "outputs": [
    {
     "data": {
      "text/plain": [
       "0.0662359757466775"
      ]
     },
     "execution_count": 26,
     "metadata": {},
     "output_type": "execute_result"
    }
   ],
   "source": [
    "sigmoid(-0.858 - 2 * 0.894)"
   ]
  },
  {
   "cell_type": "code",
   "execution_count": 33,
   "metadata": {},
   "outputs": [
    {
     "data": {
      "text/plain": [
       "array([1, 2])"
      ]
     },
     "execution_count": 33,
     "metadata": {},
     "output_type": "execute_result"
    }
   ],
   "source": [
    "a"
   ]
  },
  {
   "cell_type": "code",
   "execution_count": null,
   "metadata": {},
   "outputs": [],
   "source": []
  }
 ],
 "metadata": {
  "kernelspec": {
   "display_name": "Python 3",
   "language": "python",
   "name": "python3"
  },
  "language_info": {
   "codemirror_mode": {
    "name": "ipython",
    "version": 3
   },
   "file_extension": ".py",
   "mimetype": "text/x-python",
   "name": "python",
   "nbconvert_exporter": "python",
   "pygments_lexer": "ipython3",
   "version": "3.6.7"
  }
 },
 "nbformat": 4,
 "nbformat_minor": 2
}
