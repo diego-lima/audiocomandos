{
 "cells": [
  {
   "cell_type": "code",
   "execution_count": 1,
   "metadata": {},
   "outputs": [],
   "source": [
    "from random import random\n",
    "from funcoes import sigmoid\n",
    "from matplotlib import pyplot as plt\n",
    "\n",
    "import numpy as np\n",
    "import ipdb"
   ]
  },
  {
   "cell_type": "code",
   "execution_count": 2,
   "metadata": {},
   "outputs": [],
   "source": [
    "\"\"\"\n",
    "CONFIGURAÇÕES: \n",
    "\n",
    "quantidade de camadas,\n",
    "quantidade de neurônios em cada camada,\n",
    "função de ativação\n",
    "\"\"\"\n",
    "\n",
    "dimensoes_camadas = [2,2,1]\n"
   ]
  },
  {
   "cell_type": "code",
   "execution_count": 3,
   "metadata": {},
   "outputs": [
    {
     "data": {
      "image/png": "[encoded data removed]",
      "text/plain": [
       "<Figure size 432x288 with 1 Axes>"
      ]
     },
     "metadata": {
      "needs_background": "light"
     },
     "output_type": "display_data"
    }
   ],
   "source": [
    "dados = [\n",
    "    [10,10],\n",
    "    [10,13],\n",
    "    [13,10],\n",
    "    \n",
    "    [1,1],\n",
    "    [-2,1],\n",
    "    [1,-2],\n",
    "    \n",
    "    [1,10],\n",
    "    [1,13],\n",
    "    [-2,10]\n",
    "]\n",
    "\n",
    "labels = [\n",
    "    0,\n",
    "    0,\n",
    "    0,\n",
    "    \n",
    "    1,\n",
    "    1,\n",
    "    1,\n",
    "    \n",
    "    2,\n",
    "    2,\n",
    "    2\n",
    "]\n",
    "\n",
    "\n",
    "x = [d[0] for d in dados]\n",
    "y = [d[1] for d in dados]\n",
    "plt.scatter(x,y, c=labels)\n",
    "plt.show()"
   ]
  },
  {
   "cell_type": "code",
   "execution_count": 13,
   "metadata": {},
   "outputs": [],
   "source": [
    "def gerar_um_peso():\n",
    "    \"\"\"Sorteia um número entre -1 e 1\"\"\"\n",
    "    sinal, numero = random(), random()\n",
    "    \n",
    "    if sinal >= 0.5:\n",
    "        return numero\n",
    "    else:\n",
    "        return -numero\n",
    "    \n",
    "def gerar_N_pesos(n):\n",
    "    \"\"\"Gera um array de números sorteados\"\"\"\n",
    "    return np.array([gerar_um_peso() for i in range(n)])\n",
    "\n",
    "def gerar_rede(dimensoes, biases = None):\n",
    "    \"\"\"\n",
    "    Recebe a quantidade de neurônios em cada camada. Recebe uma lista de booleanos\n",
    "    indicando se deve ter um bias em cada camada de pesos. Se nada for passado,\n",
    "    assumimos que é pra ter bias em todas camadas.\n",
    "    Gera pesos aleatoriamente.\n",
    "    \n",
    "    Observação: camadas de neurônios é uma coisa, camada de pesos é outra\n",
    "    se eu tiver duas camadas de neurônios, eu tenho uma camada de pesos, que \n",
    "    liga essas duas camadas de neurônios\n",
    "    \n",
    "    O retorno é no formato\n",
    "    \n",
    "    [ <-- no primeiro nível, temos uma lista de camadas de pesos\n",
    "    \n",
    "        [ <-- para cada camada, temos uma lista de neurônios\n",
    "        \n",
    "            [ <-- para cada neurônio, temos uma lista de pesos\n",
    "            \n",
    "                0.2, 0.1, ...\n",
    "            ]\n",
    "        ]\n",
    "    ]\n",
    "    \n",
    "    exemplo: gerar_rede([1,1]) gera pesos para uma rede com duas camadas de neurônios,\n",
    "    com um neurônio em cada camada. Se temos duas camadas de neurônios, vamos ter uma camada\n",
    "    de pesos.\n",
    "    \n",
    "    Resultado:\n",
    "    rede = gerar_rede([1,1])  # [[[0.5]]], que é uma lista de camadas\n",
    "    print(rede[0])            # [[0.5]]  , que é a lista de neurônios para a primeira camada\n",
    "    print(rede[0][0])         # [0.5]    , que é a lista de pesos para o primeiro neurônio na primeira camada\n",
    "    print(rede[0][0][0])      # 0.5      , que é o primeiro peso do primeiro neurônio da primeira camada\n",
    "    \"\"\"\n",
    "    rede = []\n",
    "    \n",
    "    if not biases:\n",
    "        biases = [True] * (len(dimensoes) - 1)\n",
    "    \n",
    "    for i in range(1, len(dimensoes)):\n",
    "        if biases[i-1]:\n",
    "            # se é pra ter bias nessa camada, eu gero um peso a mais\n",
    "            pesos = [ gerar_N_pesos(dimensoes[i-1] + 1) for _ in range(dimensoes[i]) ]\n",
    "        else:\n",
    "            # não é pra ter bias: eu não gero um peso a mais\n",
    "            pesos = [ gerar_N_pesos(dimensoes[i-1]) for _ in range(dimensoes[i]) ]\n",
    "            \n",
    "        rede.append( np.array(pesos) )\n",
    "        \n",
    "    return rede\n",
    "\n",
    "def printar_rede(rede):\n",
    "    \"\"\"Printa as camadas de pesos da rede\"\"\"\n",
    "    \n",
    "    for i,camada in enumerate(rede):\n",
    "        print(\"Camada %d:\" % i)\n",
    "        for j,neuronio in enumerate(camada):\n",
    "            print(\"\\tNeurônio %d:\" % j)\n",
    "            for w, peso in enumerate(neuronio):\n",
    "                print(\"\\t\\tPeso %d:  %.3f\" % (w, peso))\n",
    "                \n",
    "def forward(rede, entrada, biases = None):\n",
    "    \"\"\"\n",
    "    Pega a entrada, e faz todos os cálculos pra obter a saída. Recebe uma lista de booleanos\n",
    "    indicando se deve ter um bias em cada camada de pesos. Se nada for passado,\n",
    "    assumimos que é pra ter bias em todas camadas.\n",
    "    Assim, faz as multiplicações pelos pesos, joga nas funções\n",
    "    de ativação, e passa em todas camadas, pra retornar o que sobra\n",
    "    na camada de saída.\n",
    "    \n",
    "    O retorno é uma tupla.\n",
    "    \n",
    "    O primeiro elemento são os resultados das multiplicações\n",
    "    das entradas pelos pesos (para cada camada), antes de aplicar a função de ativação.\n",
    "    \n",
    "    O segundo elemento é a mesma coisa que o primeiro, só que após a aplicação na função\n",
    "    de ativação.\n",
    "    \"\"\"\n",
    "    \n",
    "    dados = entrada\n",
    "    \n",
    "    # Vai guardar os resultados das multiplicações das entradas pelos pesos\n",
    "    # (antes de jogar nas funções de ativação)\n",
    "    somas_ponderadas = []\n",
    "    # Vai guardar a mesma coisa que somas_ponderadas, só que depois de passar\n",
    "    # nas funções de ativação\n",
    "    ativacoes = []\n",
    "    \n",
    "    if not biases:\n",
    "        biases = [True] * (len(rede))\n",
    "    \n",
    "    for i,camada in enumerate(rede):\n",
    "        # Decide se inclui o bias\n",
    "        if biases[i]:\n",
    "            # insere o inteiro '1' na posição 0\n",
    "            dados = np.insert(dados, 0, 1)\n",
    "        \n",
    "        # Aplica a soma ponderada pelos pesos\n",
    "        dados = np.sum(dados * camada, axis=1)\n",
    "        somas_ponderadas.append(dados)\n",
    "        \n",
    "        # Aplica a função de ativação\n",
    "        dados = sigmoid(dados)\n",
    "        ativacoes.append(dados)\n",
    "    \n",
    "    return somas_ponderadas, ativacoes\n",
    "\n",
    "\n",
    "def backpropagation(rede, somas_ponderadas, ativacoes):\n",
    "    \n",
    "    pass\n",
    "    "
   ]
  },
  {
   "cell_type": "code",
   "execution_count": 16,
   "metadata": {},
   "outputs": [
    {
     "name": "stdout",
     "output_type": "stream",
     "text": [
      "Camada 0:\n",
      "\tNeurônio 0:\n",
      "\t\tPeso 0:  -0.645\n",
      "\t\tPeso 1:  0.592\n",
      "\t\tPeso 2:  -0.036\n",
      "\tNeurônio 1:\n",
      "\t\tPeso 0:  -0.273\n",
      "\t\tPeso 1:  -0.625\n",
      "\t\tPeso 2:  -0.524\n",
      "\tNeurônio 2:\n",
      "\t\tPeso 0:  -0.784\n",
      "\t\tPeso 1:  -0.562\n",
      "\t\tPeso 2:  0.150\n",
      "Camada 1:\n",
      "\tNeurônio 0:\n",
      "\t\tPeso 0:  -0.637\n",
      "\t\tPeso 1:  0.908\n",
      "\t\tPeso 2:  -0.425\n",
      "\t\tPeso 3:  -0.409\n",
      "\tNeurônio 1:\n",
      "\t\tPeso 0:  0.264\n",
      "\t\tPeso 1:  0.984\n",
      "\t\tPeso 2:  -0.819\n",
      "\t\tPeso 3:  0.557\n",
      "\tNeurônio 2:\n",
      "\t\tPeso 0:  -0.847\n",
      "\t\tPeso 1:  0.541\n",
      "\t\tPeso 2:  -0.727\n",
      "\t\tPeso 3:  -0.221\n"
     ]
    }
   ],
   "source": [
    "rede = gerar_rede([2,3,3])\n",
    "printar_rede(rede)"
   ]
  },
  {
   "cell_type": "code",
   "execution_count": 17,
   "metadata": {},
   "outputs": [
    {
     "data": {
      "text/plain": [
       "[array([-0.08891319, -1.42304715, -1.19548048]),\n",
       " array([-0.3805914 ,  0.70471476, -0.78095868])]"
      ]
     },
     "execution_count": 17,
     "metadata": {},
     "output_type": "execute_result"
    }
   ],
   "source": [
    "entrada = np.array([1,1])\n",
    "forward(rede, entrada)[0]"
   ]
  },
  {
   "cell_type": "code",
   "execution_count": null,
   "metadata": {},
   "outputs": [],
   "source": []
  }
 ],
 "metadata": {
  "kernelspec": {
   "display_name": "Python 3",
   "language": "python",
   "name": "python3"
  },
  "language_info": {
   "codemirror_mode": {
    "name": "ipython",
    "version": 3
   },
   "file_extension": ".py",
   "mimetype": "text/x-python",
   "name": "python",
   "nbconvert_exporter": "python",
   "pygments_lexer": "ipython3",
   "version": "3.6.7"
  }
 },
 "nbformat": 4,
 "nbformat_minor": 2
}
