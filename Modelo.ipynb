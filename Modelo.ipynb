{
 "cells": [
  {
   "cell_type": "markdown",
   "metadata": {},
   "source": [
    "# Produzindo o modelo\n",
    "\n",
    "Agora, vamos criar e treinar o nosso modelo de fato.\n",
    "\n",
    "Vamos pegar os dados exportados na fase de análise\n",
    "\n",
    "Vamos pegar a MLP desenvolvida\n",
    "\n",
    "Vamos juntar tudo e fazer um modelo que reconhece comandos sonoros."
   ]
  },
  {
   "cell_type": "markdown",
   "metadata": {},
   "source": [
    "### Ler os dados coletados\n",
    "e talvez realizar algum pré-processamento"
   ]
  },
  {
   "cell_type": "code",
   "execution_count": 1,
   "metadata": {},
   "outputs": [
    {
     "data": {
      "text/html": [
       "<div>\n",
       "<style scoped>\n",
       "    .dataframe tbody tr th:only-of-type {\n",
       "        vertical-align: middle;\n",
       "    }\n",
       "\n",
       "    .dataframe tbody tr th {\n",
       "        vertical-align: top;\n",
       "    }\n",
       "\n",
       "    .dataframe thead th {\n",
       "        text-align: right;\n",
       "    }\n",
       "</style>\n",
       "<table border=\"1\" class=\"dataframe\">\n",
       "  <thead>\n",
       "    <tr style=\"text-align: right;\">\n",
       "      <th></th>\n",
       "      <th>classe</th>\n",
       "      <th>f_centro_gravidade</th>\n",
       "      <th>f_fluxo_spectral</th>\n",
       "      <th>f_media</th>\n",
       "    </tr>\n",
       "  </thead>\n",
       "  <tbody>\n",
       "    <tr>\n",
       "      <th>0</th>\n",
       "      <td>2</td>\n",
       "      <td>1787.310829</td>\n",
       "      <td>5.098251</td>\n",
       "      <td>0.050345</td>\n",
       "    </tr>\n",
       "    <tr>\n",
       "      <th>1</th>\n",
       "      <td>2</td>\n",
       "      <td>1794.176401</td>\n",
       "      <td>3.966945</td>\n",
       "      <td>0.053057</td>\n",
       "    </tr>\n",
       "    <tr>\n",
       "      <th>2</th>\n",
       "      <td>0</td>\n",
       "      <td>1385.895618</td>\n",
       "      <td>1.695399</td>\n",
       "      <td>0.129766</td>\n",
       "    </tr>\n",
       "    <tr>\n",
       "      <th>3</th>\n",
       "      <td>1</td>\n",
       "      <td>1763.078395</td>\n",
       "      <td>105.106328</td>\n",
       "      <td>0.281041</td>\n",
       "    </tr>\n",
       "    <tr>\n",
       "      <th>4</th>\n",
       "      <td>0</td>\n",
       "      <td>1381.969627</td>\n",
       "      <td>2.060081</td>\n",
       "      <td>0.132571</td>\n",
       "    </tr>\n",
       "  </tbody>\n",
       "</table>\n",
       "</div>"
      ],
      "text/plain": [
       "   classe  f_centro_gravidade  f_fluxo_spectral   f_media\n",
       "0       2         1787.310829          5.098251  0.050345\n",
       "1       2         1794.176401          3.966945  0.053057\n",
       "2       0         1385.895618          1.695399  0.129766\n",
       "3       1         1763.078395        105.106328  0.281041\n",
       "4       0         1381.969627          2.060081  0.132571"
      ]
     },
     "execution_count": 1,
     "metadata": {},
     "output_type": "execute_result"
    }
   ],
   "source": [
    "import pandas as pd\n",
    "import os\n",
    "import subprocess\n",
    "\n",
    "from funcoes import arquivo_mais_recente\n",
    "from math import inf as infinito\n",
    "\n",
    "# ignorar warnings\n",
    "import warnings\n",
    "warnings.filterwarnings('ignore')\n",
    "\n",
    "# pegar o CSV mais recente no diretório 'csv'\n",
    "arquivo = arquivo_mais_recente('csv')\n",
    "assert os.path.isfile(arquivo)\n",
    "\n",
    "dataset = pd.read_csv(arquivo)\n",
    "\n",
    "# fazendo um shuffle nos dados, pra ficar em ordem aleatória\n",
    "dataset = dataset.sample(frac=1).reset_index(drop=True)\n",
    "\n",
    "dataset.head()"
   ]
  },
  {
   "cell_type": "code",
   "execution_count": 2,
   "metadata": {},
   "outputs": [],
   "source": [
    "# tirando a coluna 'classe', fazendo standardization e convertendo para matriz\n",
    "dados_normalizados = (dataset-dataset.mean()) / dataset.std()\n",
    "dados = dados_normalizados.loc[:, dados_normalizados.columns != 'classe'].as_matrix()\n",
    "\n",
    "labels = dataset['classe'].as_matrix()"
   ]
  },
  {
   "cell_type": "markdown",
   "metadata": {},
   "source": [
    "### Configurando o modelo"
   ]
  },
  {
   "cell_type": "code",
   "execution_count": 3,
   "metadata": {},
   "outputs": [],
   "source": [
    "# quantidade de neurônios na camada de entrada\n",
    "tam_entrada = len(dados[0])\n",
    "\n",
    "# quantidade de neurônios na camada de saída\n",
    "tam_saida = len(set(labels))\n",
    "\n",
    "# Quantos neurônios tem em cada camada (sem contar o bias)\n",
    "formato_rede = [tam_entrada, tam_saida, tam_saida]\n",
    "\n",
    "# Variação mínima do erro como critério de parada\n",
    "delta_erro_minimo = 0.00001\n",
    "\n",
    "# Número máximo de iterações\n",
    "max_iteracoes = 10000"
   ]
  },
  {
   "cell_type": "code",
   "execution_count": 4,
   "metadata": {},
   "outputs": [],
   "source": [
    "# atualizando o código dentro de MLP.py, que é extraído de MLP.ipynb\n",
    "subprocess.Popen(['ipython', 'nbconvert', '--to=python', 'MLP.ipynb'])\n",
    "\n",
    "from MLP import *"
   ]
  },
  {
   "cell_type": "markdown",
   "metadata": {},
   "source": [
    "### Treinamento"
   ]
  },
  {
   "cell_type": "code",
   "execution_count": 5,
   "metadata": {},
   "outputs": [
    {
     "name": "stdout",
     "output_type": "stream",
     "text": [
      "erro inicial:  0.5207093173004098\n",
      "erro medio:  0.5207093173004098\n",
      "\n",
      "erro final:  0.0015948156828097387\n"
     ]
    }
   ],
   "source": [
    "rede = gerar_rede(formato_rede)\n",
    "\n",
    "erro_anterior = infinito\n",
    "\n",
    "for _ in range(max_iteracoes):\n",
    "    erros = []\n",
    "\n",
    "    for dado in range(len(dados)):\n",
    "        # Atualizar os pesos: joga dados[dado] na entrada, e propaga o erro\n",
    "        # pra ajustar os pesos\n",
    "        rede = forward_backward(rede, dados[dado], one_hot(labels[dado], tam_saida))\n",
    "\n",
    "        # com os novos pesos, vamos ver o que ele prediz\n",
    "        I, Y = forward(rede, dados[dado])\n",
    "        d = one_hot(labels[dado], tam_saida)\n",
    "\n",
    "        # vamos guardar o erro entre o que ele previu e o que é pra ser\n",
    "        erros.append(erro_total(Y[-1], d))\n",
    "\n",
    "    # erro médio\n",
    "    erro = sum(erros)/len(erros)\n",
    "    \n",
    "    if _ == 0:\n",
    "        print(\"erro inicial: \", erro)\n",
    "        \n",
    "    if _ % (max_iteracoes / 10) == 0:\n",
    "        print(\"erro medio: \", erro)\n",
    "        \n",
    "    if abs(erro - erro_anterior) <= delta_erro_minimo:\n",
    "        break\n",
    "        \n",
    "    erro_anterior = erro\n",
    "        \n",
    "print(\"\\nerro final: \",erro)"
   ]
  },
  {
   "cell_type": "markdown",
   "metadata": {},
   "source": [
    "### Testes"
   ]
  },
  {
   "cell_type": "code",
   "execution_count": 6,
   "metadata": {},
   "outputs": [
    {
     "data": {
      "image/png": "[encoded data removed]",
      "text/plain": [
       "<Figure size 432x288 with 1 Axes>"
      ]
     },
     "metadata": {
      "needs_background": "light"
     },
     "output_type": "display_data"
    },
    {
     "name": "stdout",
     "output_type": "stream",
     "text": [
      "Acertou 100.0 %\n"
     ]
    }
   ],
   "source": [
    "certos = 0\n",
    "errados = 0\n",
    "\n",
    "resultados = []\n",
    "\n",
    "for i in range(len(dados)):\n",
    "    # vamos ver o que ele prediz\n",
    "    resultado = predizer(rede, dados[i])\n",
    "    resultados.append(resultado)\n",
    "    if resultado == labels[i]:\n",
    "        certos +=1\n",
    "    else:\n",
    "        errados +=1\n",
    "\n",
    "plt.hist(resultados)\n",
    "plt.title(\"Distribuição das respostas dadas pela MLP\")\n",
    "plt.show()\n",
    "\n",
    "print(\"Acertou %.1f %%\" % (100*certos / (certos + errados)))\n",
    "\n"
   ]
  }
 ],
 "metadata": {
  "kernelspec": {
   "display_name": "Python 3",
   "language": "python",
   "name": "python3"
  },
  "language_info": {
   "codemirror_mode": {
    "name": "ipython",
    "version": 3
   },
   "file_extension": ".py",
   "mimetype": "text/x-python",
   "name": "python",
   "nbconvert_exporter": "python",
   "pygments_lexer": "ipython3",
   "version": "3.6.7"
  }
 },
 "nbformat": 4,
 "nbformat_minor": 2
}
