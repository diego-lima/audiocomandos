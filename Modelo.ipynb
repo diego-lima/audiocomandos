{
 "cells": [
  {
   "cell_type": "markdown",
   "metadata": {},
   "source": [
    "# Produzindo o modelo\n",
    "\n",
    "Agora, vamos criar e treinar o nosso modelo de fato.\n",
    "\n",
    "Vamos pegar os dados exportados na fase de análise\n",
    "\n",
    "Vamos pegar a MLP desenvolvida\n",
    "\n",
    "Vamos juntar tudo e fazer um modelo que reconhece comandos sonoros."
   ]
  },
  {
   "cell_type": "markdown",
   "metadata": {},
   "source": [
    "### Ler os dados coletados\n",
    "e talvez realizar algum pré-processamento"
   ]
  },
  {
   "cell_type": "code",
   "execution_count": 1,
   "metadata": {},
   "outputs": [
    {
     "data": {
      "text/html": [
       "<div>\n",
       "<style scoped>\n",
       "    .dataframe tbody tr th:only-of-type {\n",
       "        vertical-align: middle;\n",
       "    }\n",
       "\n",
       "    .dataframe tbody tr th {\n",
       "        vertical-align: top;\n",
       "    }\n",
       "\n",
       "    .dataframe thead th {\n",
       "        text-align: right;\n",
       "    }\n",
       "</style>\n",
       "<table border=\"1\" class=\"dataframe\">\n",
       "  <thead>\n",
       "    <tr style=\"text-align: right;\">\n",
       "      <th></th>\n",
       "      <th>classe</th>\n",
       "      <th>f_centro_gravidade</th>\n",
       "      <th>f_media</th>\n",
       "      <th>f_percentil99</th>\n",
       "    </tr>\n",
       "  </thead>\n",
       "  <tbody>\n",
       "    <tr>\n",
       "      <th>0</th>\n",
       "      <td>0</td>\n",
       "      <td>1744.925171</td>\n",
       "      <td>0.036569</td>\n",
       "      <td>1.067041</td>\n",
       "    </tr>\n",
       "    <tr>\n",
       "      <th>1</th>\n",
       "      <td>0</td>\n",
       "      <td>1794.176401</td>\n",
       "      <td>0.059426</td>\n",
       "      <td>1.451006</td>\n",
       "    </tr>\n",
       "    <tr>\n",
       "      <th>2</th>\n",
       "      <td>0</td>\n",
       "      <td>1808.564724</td>\n",
       "      <td>0.087129</td>\n",
       "      <td>1.531464</td>\n",
       "    </tr>\n",
       "    <tr>\n",
       "      <th>3</th>\n",
       "      <td>0</td>\n",
       "      <td>1787.310829</td>\n",
       "      <td>0.048239</td>\n",
       "      <td>0.996071</td>\n",
       "    </tr>\n",
       "    <tr>\n",
       "      <th>4</th>\n",
       "      <td>0</td>\n",
       "      <td>1746.282903</td>\n",
       "      <td>0.056676</td>\n",
       "      <td>1.252594</td>\n",
       "    </tr>\n",
       "  </tbody>\n",
       "</table>\n",
       "</div>"
      ],
      "text/plain": [
       "   classe  f_centro_gravidade   f_media  f_percentil99\n",
       "0       0         1744.925171  0.036569       1.067041\n",
       "1       0         1794.176401  0.059426       1.451006\n",
       "2       0         1808.564724  0.087129       1.531464\n",
       "3       0         1787.310829  0.048239       0.996071\n",
       "4       0         1746.282903  0.056676       1.252594"
      ]
     },
     "execution_count": 1,
     "metadata": {},
     "output_type": "execute_result"
    }
   ],
   "source": [
    "import pandas as pd\n",
    "import os\n",
    "import subprocess\n",
    "import pickle\n",
    "\n",
    "from funcoes import arquivo_mais_recente, nome_diferente\n",
    "from math import inf as infinito\n",
    "\n",
    "# ignorar warnings\n",
    "import warnings\n",
    "warnings.filterwarnings('ignore')\n",
    "\n",
    "# pegar o CSV mais recente no diretório 'csv'\n",
    "arquivo = arquivo_mais_recente('csv')\n",
    "assert os.path.isfile(arquivo)\n",
    "\n",
    "dataset = pd.read_csv(arquivo)\n",
    "\n",
    "dataset.head()"
   ]
  },
  {
   "cell_type": "markdown",
   "metadata": {},
   "source": [
    "Para saber que número pertence a que classe:"
   ]
  },
  {
   "cell_type": "code",
   "execution_count": null,
   "metadata": {},
   "outputs": [],
   "source": [
    "raiz = 'dataset'\n",
    "\n",
    "classes = os.listdir(raiz)\n",
    "\n",
    "for classe in c"
   ]
  },
  {
   "cell_type": "markdown",
   "metadata": {},
   "source": [
    "### Dividindo os dados coletados em conjunto de treino e teste balanceados"
   ]
  },
  {
   "cell_type": "code",
   "execution_count": 2,
   "metadata": {},
   "outputs": [],
   "source": [
    "# Que porcentagem dos dados vamos pegar para treino\n",
    "fracao_treino = 0.7\n",
    "\n",
    "dados_treino = pd.DataFrame()\n",
    "dados_teste = pd.DataFrame()\n",
    "\n",
    "for classe in dataset['classe'].unique():\n",
    "    # só pegar dados dessa classe\n",
    "    dados = dataset.loc[dataset['classe'] == classe]\n",
    "    \n",
    "    treino = dados.sample(frac=fracao_treino)\n",
    "    teste = dados.drop(treino.index)\n",
    "    \n",
    "    dados_treino = dados_treino.append(treino)\n",
    "    dados_teste = dados_teste.append(teste)\n"
   ]
  },
  {
   "cell_type": "markdown",
   "metadata": {},
   "source": [
    "###  Normalizando e dividindo em features e target"
   ]
  },
  {
   "cell_type": "code",
   "execution_count": 3,
   "metadata": {},
   "outputs": [],
   "source": [
    "\"\"\"\n",
    "Treino\n",
    "\"\"\"\n",
    "# Pegando as respostas\n",
    "labels_treino = dados_treino['classe'].as_matrix()\n",
    "# Fazendo standardization: subtrai a média e divide pelo desvio padrão\n",
    "dados_treino = (dados_treino - dados_treino.mean()) / dados_treino.std()\n",
    "# Remove a coluna 'classe' e transforma em matriz\n",
    "dados_treino = dados_treino.loc[:, dados_treino.columns != 'classe'].as_matrix()\n",
    "\n",
    "\"\"\"\n",
    "Teste\n",
    "\"\"\"\n",
    "# Pegando as respostas\n",
    "labels_teste = dados_teste['classe'].as_matrix()\n",
    "# Fazendo standardization: subtrai a média e divide pelo desvio padrão\n",
    "dados_teste = (dados_teste - dados_teste.mean()) / dados_teste.std()\n",
    "# Remove a coluna 'classe' e transforma em matriz\n",
    "dados_teste = dados_teste.loc[:, dados_teste.columns != 'classe'].as_matrix()"
   ]
  },
  {
   "cell_type": "markdown",
   "metadata": {},
   "source": [
    "### Configurando o modelo"
   ]
  },
  {
   "cell_type": "code",
   "execution_count": 4,
   "metadata": {},
   "outputs": [],
   "source": [
    "# quantidade de neurônios na camada de entrada\n",
    "tam_entrada = len(dados_treino[0])\n",
    "\n",
    "# quantidade de neurônios na camada de saída\n",
    "tam_saida = len(set(labels_treino))\n",
    "\n",
    "# Quantos neurônios tem em cada camada (sem contar o bias)\n",
    "formato_rede = [tam_entrada, tam_saida, tam_saida]\n",
    "\n",
    "# Variação mínima do erro como critério de parada\n",
    "delta_erro_minimo = 0.00001\n",
    "\n",
    "# Número máximo de iterações\n",
    "max_iteracoes = 10000"
   ]
  },
  {
   "cell_type": "code",
   "execution_count": 5,
   "metadata": {},
   "outputs": [],
   "source": [
    "# atualizando o código dentro de MLP.py, que é extraído de MLP.ipynb\n",
    "subprocess.Popen(['ipython', 'nbconvert', '--to=python', 'MLP.ipynb'])\n",
    "\n",
    "from MLP import *"
   ]
  },
  {
   "cell_type": "markdown",
   "metadata": {},
   "source": [
    "### Treinamento"
   ]
  },
  {
   "cell_type": "code",
   "execution_count": 6,
   "metadata": {},
   "outputs": [
    {
     "name": "stdout",
     "output_type": "stream",
     "text": [
      "erro inicial:  0.5230170371016978\n",
      "erro medio:  0.5230170371016978\n",
      "\n",
      "erro final:  0.002053147676718946\n"
     ]
    }
   ],
   "source": [
    "rede = gerar_rede(formato_rede)\n",
    "\n",
    "erro_anterior = infinito\n",
    "\n",
    "for _ in range(max_iteracoes):\n",
    "    erros = []\n",
    "\n",
    "    for dado in range(len(dados_treino)):\n",
    "        # Atualizar os pesos: joga dados[dado] na entrada, e propaga o erro\n",
    "        # pra ajustar os pesos\n",
    "        rede = forward_backward(rede, dados_treino[dado], one_hot(labels_treino[dado], tam_saida))\n",
    "\n",
    "        # com os novos pesos, vamos ver o que ele prediz\n",
    "        I, Y = forward(rede, dados_treino[dado])\n",
    "        d = one_hot(labels_treino[dado], tam_saida)\n",
    "\n",
    "        # vamos guardar o erro entre o que ele previu e o que é pra ser\n",
    "        erros.append(erro_total(Y[-1], d))\n",
    "\n",
    "    # erro médio\n",
    "    erro = sum(erros)/len(erros)\n",
    "    \n",
    "    if _ == 0:\n",
    "        print(\"erro inicial: \", erro)\n",
    "        \n",
    "    if _ % (max_iteracoes / 10) == 0:\n",
    "        print(\"erro medio: \", erro)\n",
    "        \n",
    "    if abs(erro - erro_anterior) <= delta_erro_minimo:\n",
    "        break\n",
    "        \n",
    "    erro_anterior = erro\n",
    "        \n",
    "print(\"\\nerro final: \",erro)"
   ]
  },
  {
   "cell_type": "markdown",
   "metadata": {},
   "source": [
    "### Testes"
   ]
  },
  {
   "cell_type": "code",
   "execution_count": 7,
   "metadata": {},
   "outputs": [
    {
     "data": {
      "image/png": "[encoded data removed]",
      "text/plain": [
       "<Figure size 432x288 with 1 Axes>"
      ]
     },
     "metadata": {
      "needs_background": "light"
     },
     "output_type": "display_data"
    },
    {
     "name": "stdout",
     "output_type": "stream",
     "text": [
      "Acertou 100.0 %\n"
     ]
    }
   ],
   "source": [
    "certos = 0\n",
    "errados = 0\n",
    "\n",
    "resultados = []\n",
    "\n",
    "for i in range(len(dados_teste)):\n",
    "    # vamos ver o que ele prediz\n",
    "    resultado = predizer(rede, dados_teste[i])\n",
    "    resultados.append(resultado)\n",
    "    if resultado == labels_teste[i]:\n",
    "        certos +=1\n",
    "    else:\n",
    "        errados +=1\n",
    "\n",
    "plt.hist(resultados)\n",
    "plt.title(\"Distribuição das respostas dadas pela MLP\")\n",
    "plt.show()\n",
    "\n",
    "print(\"Acertou %.1f %%\" % (100*certos / (certos + errados)))\n",
    "\n"
   ]
  },
  {
   "cell_type": "markdown",
   "metadata": {},
   "source": [
    "### Exportação do modelo para arquivo"
   ]
  },
  {
   "cell_type": "markdown",
   "metadata": {},
   "source": [
    "Basta serializar a variável \"rede\" e gravar num arquivo."
   ]
  },
  {
   "cell_type": "code",
   "execution_count": 8,
   "metadata": {},
   "outputs": [],
   "source": [
    "diretorio = \"rede\"\n",
    "\n",
    "if not os.path.exists(diretorio):\n",
    "    os.makedirs(diretorio)\n",
    "    \n",
    "nome = nome_diferente(\"rede\",diretorio, formato=\"pickle\")\n",
    "\n",
    "with open(nome, 'wb') as myf:\n",
    "    myf.write(pickle.dumps(rede))"
   ]
  }
 ],
 "metadata": {
  "kernelspec": {
   "display_name": "Python 3",
   "language": "python",
   "name": "python3"
  },
  "language_info": {
   "codemirror_mode": {
    "name": "ipython",
    "version": 3
   },
   "file_extension": ".py",
   "mimetype": "text/x-python",
   "name": "python",
   "nbconvert_exporter": "python",
   "pygments_lexer": "ipython3",
   "version": "3.6.7"
  }
 },
 "nbformat": 4,
 "nbformat_minor": 2
}
