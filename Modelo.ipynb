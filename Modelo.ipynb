{
 "cells": [
  {
   "cell_type": "markdown",
   "metadata": {},
   "source": [
    "# Produzindo o modelo\n",
    "\n",
    "Agora, vamos criar e treinar o nosso modelo de fato.\n",
    "\n",
    "Vamos pegar os dados exportados na fase de análise\n",
    "\n",
    "Vamos pegar a MLP desenvolvida\n",
    "\n",
    "Vamos juntar tudo e fazer um modelo que reconhece comandos sonoros."
   ]
  },
  {
   "cell_type": "markdown",
   "metadata": {},
   "source": [
    "### Ler os dados coletados\n",
    "e talvez realizar algum pré-processamento"
   ]
  },
  {
   "cell_type": "code",
   "execution_count": 77,
   "metadata": {},
   "outputs": [
    {
     "data": {
      "text/html": [
       "<div>\n",
       "<style scoped>\n",
       "    .dataframe tbody tr th:only-of-type {\n",
       "        vertical-align: middle;\n",
       "    }\n",
       "\n",
       "    .dataframe tbody tr th {\n",
       "        vertical-align: top;\n",
       "    }\n",
       "\n",
       "    .dataframe thead th {\n",
       "        text-align: right;\n",
       "    }\n",
       "</style>\n",
       "<table border=\"1\" class=\"dataframe\">\n",
       "  <thead>\n",
       "    <tr style=\"text-align: right;\">\n",
       "      <th></th>\n",
       "      <th>classe</th>\n",
       "      <th>f_centro_gravidade</th>\n",
       "      <th>f_fluxo_spectral</th>\n",
       "      <th>f_media</th>\n",
       "      <th>f_percentil99</th>\n",
       "    </tr>\n",
       "  </thead>\n",
       "  <tbody>\n",
       "    <tr>\n",
       "      <th>0</th>\n",
       "      <td>0</td>\n",
       "      <td>1459.988773</td>\n",
       "      <td>0.230551</td>\n",
       "      <td>0.028790</td>\n",
       "      <td>0.880964</td>\n",
       "    </tr>\n",
       "    <tr>\n",
       "      <th>1</th>\n",
       "      <td>0</td>\n",
       "      <td>1453.249130</td>\n",
       "      <td>0.313355</td>\n",
       "      <td>0.017000</td>\n",
       "      <td>0.182366</td>\n",
       "    </tr>\n",
       "    <tr>\n",
       "      <th>2</th>\n",
       "      <td>0</td>\n",
       "      <td>1422.370733</td>\n",
       "      <td>0.174539</td>\n",
       "      <td>0.017141</td>\n",
       "      <td>0.399868</td>\n",
       "    </tr>\n",
       "    <tr>\n",
       "      <th>3</th>\n",
       "      <td>0</td>\n",
       "      <td>1733.477970</td>\n",
       "      <td>0.441782</td>\n",
       "      <td>0.010955</td>\n",
       "      <td>0.307615</td>\n",
       "    </tr>\n",
       "    <tr>\n",
       "      <th>4</th>\n",
       "      <td>0</td>\n",
       "      <td>1581.554988</td>\n",
       "      <td>0.615359</td>\n",
       "      <td>0.008444</td>\n",
       "      <td>0.155149</td>\n",
       "    </tr>\n",
       "  </tbody>\n",
       "</table>\n",
       "</div>"
      ],
      "text/plain": [
       "   classe  f_centro_gravidade  f_fluxo_spectral   f_media  f_percentil99\n",
       "0       0         1459.988773          0.230551  0.028790       0.880964\n",
       "1       0         1453.249130          0.313355  0.017000       0.182366\n",
       "2       0         1422.370733          0.174539  0.017141       0.399868\n",
       "3       0         1733.477970          0.441782  0.010955       0.307615\n",
       "4       0         1581.554988          0.615359  0.008444       0.155149"
      ]
     },
     "execution_count": 77,
     "metadata": {},
     "output_type": "execute_result"
    }
   ],
   "source": [
    "import pandas as pd\n",
    "import os\n",
    "import subprocess\n",
    "import pickle\n",
    "\n",
    "from funcoes import arquivo_mais_recente, nome_diferente\n",
    "from math import inf as infinito\n",
    "\n",
    "# ignorar warnings\n",
    "import warnings\n",
    "warnings.filterwarnings('ignore')\n",
    "\n",
    "# pegar o CSV mais recente no diretório 'csv'\n",
    "arquivo = arquivo_mais_recente('csv')\n",
    "assert os.path.isfile(arquivo)\n",
    "\n",
    "dataset = pd.read_csv(arquivo)\n",
    "\n",
    "dataset.head()"
   ]
  },
  {
   "cell_type": "markdown",
   "metadata": {},
   "source": [
    "Para saber que número pertence a que classe:"
   ]
  },
  {
   "cell_type": "code",
   "execution_count": 78,
   "metadata": {},
   "outputs": [
    {
     "name": "stdout",
     "output_type": "stream",
     "text": [
      "0: assobio_agudo\n",
      "1: assobio_grave\n",
      "2: palmas\n",
      "3: ruido_sedis\n"
     ]
    }
   ],
   "source": [
    "raiz = 'dataset'\n",
    "\n",
    "classes = os.listdir(raiz)\n",
    "\n",
    "for i,classe in enumerate(classes):\n",
    "    print(\"%d: %s\" % (i, classe))"
   ]
  },
  {
   "cell_type": "markdown",
   "metadata": {},
   "source": [
    "### Dividindo os dados coletados em conjunto de treino e teste balanceados"
   ]
  },
  {
   "cell_type": "code",
   "execution_count": 79,
   "metadata": {},
   "outputs": [],
   "source": [
    "# Que porcentagem dos dados vamos pegar para treino\n",
    "fracao_treino = 0.7\n",
    "\n",
    "dados_treino = pd.DataFrame()\n",
    "dados_teste = pd.DataFrame()\n",
    "\n",
    "for classe in dataset['classe'].unique():\n",
    "    # só pegar dados dessa classe\n",
    "    dados = dataset.loc[dataset['classe'] == classe]\n",
    "    \n",
    "    treino = dados.sample(frac=fracao_treino)\n",
    "    teste = dados.drop(treino.index)\n",
    "    \n",
    "    dados_treino = dados_treino.append(treino)\n",
    "    dados_teste = dados_teste.append(teste)\n"
   ]
  },
  {
   "cell_type": "markdown",
   "metadata": {},
   "source": [
    "###  Normalizando e dividindo em features e target"
   ]
  },
  {
   "cell_type": "code",
   "execution_count": 80,
   "metadata": {},
   "outputs": [
    {
     "data": {
      "text/plain": [
       "array([[ 1.35302318, -0.6610737 , -0.69139946, -0.34618661],\n",
       "       [ 1.08393598, -0.48532665,  2.54148408,  3.80311554],\n",
       "       [ 0.14147386, -0.67026172, -0.63598272, -0.14017565],\n",
       "       ...,\n",
       "       [ 0.22388913,  1.20774508, -0.65379003, -0.51309126],\n",
       "       [-0.26975498,  0.31038319, -0.36209574, -0.40820298],\n",
       "       [-0.06257879,  0.7688598 , -0.41503631, -0.42230207]])"
      ]
     },
     "execution_count": 80,
     "metadata": {},
     "output_type": "execute_result"
    }
   ],
   "source": [
    "\"\"\"\n",
    "Treino\n",
    "\"\"\"\n",
    "# Pegando as respostas\n",
    "labels_treino = dados_treino['classe'].as_matrix()\n",
    "\n",
    "treino_media = dados_treino.loc[:, dados_treino.columns != 'classe'].mean()\n",
    "treino_desvio_padrao = dados_treino.loc[:, dados_treino.columns != 'classe'].std()\n",
    "# Fazendo standardization: subtrai a média e divide pelo desvio padrão\n",
    "dados_treino = (dados_treino - dados_treino.mean()) / dados_treino.std()\n",
    "# Remove a coluna 'classe' e transforma em matriz\n",
    "dados_treino = dados_treino.loc[:, dados_treino.columns != 'classe'].as_matrix()\n",
    "\n",
    "\"\"\"\n",
    "Teste\n",
    "\"\"\"\n",
    "# Pegando as respostas\n",
    "labels_teste = dados_teste['classe'].as_matrix()\n",
    "# Fazendo standardization: subtrai a média e divide pelo desvio padrão\n",
    "dados_teste = (dados_teste - dados_teste.mean()) / dados_teste.std()\n",
    "# Remove a coluna 'classe' e transforma em matriz\n",
    "dados_teste = dados_teste.loc[:, dados_teste.columns != 'classe'].as_matrix()\n",
    "\n",
    "dados_treino"
   ]
  },
  {
   "cell_type": "markdown",
   "metadata": {},
   "source": [
    "### Configurando o modelo"
   ]
  },
  {
   "cell_type": "code",
   "execution_count": 81,
   "metadata": {},
   "outputs": [],
   "source": [
    "# quantidade de neurônios na camada de entrada\n",
    "tam_entrada = len(dados_treino[0])\n",
    "\n",
    "# quantidade de neurônios na camada de saída\n",
    "tam_saida = len(set(labels_treino))\n",
    "\n",
    "# Quantos neurônios tem em cada camada (sem contar o bias)\n",
    "formato_rede = [tam_entrada, 10, tam_saida]\n",
    "\n",
    "# Variação mínima do erro como critério de parada\n",
    "delta_erro_minimo = 0.00001\n",
    "\n",
    "# Número máximo de iterações\n",
    "max_iteracoes = 10000"
   ]
  },
  {
   "cell_type": "code",
   "execution_count": 62,
   "metadata": {},
   "outputs": [],
   "source": [
    "# atualizando o código dentro de MLP.py, que é extraído de MLP.ipynb\n",
    "subprocess.Popen(['ipython', 'nbconvert', '--to=python', 'MLP.ipynb'])\n",
    "\n",
    "from MLP import *"
   ]
  },
  {
   "cell_type": "markdown",
   "metadata": {},
   "source": [
    "### Treinamento"
   ]
  },
  {
   "cell_type": "code",
   "execution_count": 82,
   "metadata": {},
   "outputs": [
    {
     "name": "stdout",
     "output_type": "stream",
     "text": [
      "erro inicial:  0.13118100799255006\n",
      "erro medio:  0.13118100799255006\n",
      "\n",
      "erro final:  0.027158371214160464\n"
     ]
    }
   ],
   "source": [
    "rede = gerar_rede(formato_rede)\n",
    "\n",
    "erro_anterior = infinito\n",
    "\n",
    "for _ in range(max_iteracoes):\n",
    "    erros = []\n",
    "\n",
    "    for dado in range(len(dados_treino)):\n",
    "        # Atualizar os pesos: joga dados[dado] na entrada, e propaga o erro\n",
    "        # pra ajustar os pesos\n",
    "        rede = forward_backward(rede, dados_treino[dado], one_hot(labels_treino[dado], tam_saida))\n",
    "\n",
    "        # com os novos pesos, vamos ver o que ele prediz\n",
    "        I, Y = forward(rede, dados_treino[dado])\n",
    "        d = one_hot(labels_treino[dado], tam_saida)\n",
    "\n",
    "        # vamos guardar o erro entre o que ele previu e o que é pra ser\n",
    "        erros.append(erro_total(Y[-1], d))\n",
    "\n",
    "    # erro médio\n",
    "    erro = sum(erros)/len(erros)\n",
    "    \n",
    "    if _ == 0:\n",
    "        print(\"erro inicial: \", erro)\n",
    "        \n",
    "    if _ % (max_iteracoes / 10) == 0:\n",
    "        print(\"erro medio: \", erro)\n",
    "        \n",
    "    if abs(erro - erro_anterior) <= delta_erro_minimo:\n",
    "        break\n",
    "        \n",
    "    erro_anterior = erro\n",
    "        \n",
    "print(\"\\nerro final: \",erro)"
   ]
  },
  {
   "cell_type": "markdown",
   "metadata": {},
   "source": [
    "### Testes"
   ]
  },
  {
   "cell_type": "code",
   "execution_count": 109,
   "metadata": {},
   "outputs": [
    {
     "data": {
      "image/png": "[encoded data removed]",
      "text/plain": [
       "<Figure size 432x288 with 1 Axes>"
      ]
     },
     "metadata": {
      "needs_background": "light"
     },
     "output_type": "display_data"
    },
    {
     "name": "stdout",
     "output_type": "stream",
     "text": [
      "Acertou 97.2 %\n"
     ]
    }
   ],
   "source": [
    "certos = 0\n",
    "errados = 0\n",
    "\n",
    "erros = [0] * len(classes)\n",
    "\n",
    "resultados = [0] * len(classes)\n",
    "\n",
    "for i in range(len(dados_teste)):\n",
    "    # vamos ver o que ele prediz\n",
    "    resultado = predizer(rede, dados_teste[i])\n",
    "    if resultado == labels_teste[i]:\n",
    "        certos +=1\n",
    "        resultados[labels_teste[i]] += 1\n",
    "    else:\n",
    "        errados +=1\n",
    "        erros[labels_teste[i]] += 1\n",
    "        \n",
    "ind = range(len(classes))\n",
    "\n",
    "p1 = plt.bar(ind, resultados, 0.5)\n",
    "p2 = plt.bar(ind, erros, 0.3, bottom=resultados)\n",
    "plt.title(\"Erros e acertos no conjunto de teste\")\n",
    "plt.legend((p1[0], p2[0]), ('Certo', 'Errado'))\n",
    "plt.xticks(ind, classes)\n",
    "plt.show()\n",
    "\n",
    "print(\"Acertou %.1f %%\" % (100*certos / (certos + errados)))\n"
   ]
  },
  {
   "cell_type": "markdown",
   "metadata": {},
   "source": [
    "### Validação"
   ]
  },
  {
   "cell_type": "markdown",
   "metadata": {},
   "source": [
    "O código abaixo itera em todos os arquivos de áudio presentes na pasta \"validacao\".\n",
    "O nome de cada subpasta é o que deveria ser, e o modelo tenta achar o que realmente foi"
   ]
  },
  {
   "cell_type": "code",
   "execution_count": 115,
   "metadata": {},
   "outputs": [
    {
     "data": {
      "image/png": "[encoded data removed]",
      "text/plain": [
       "<Figure size 432x288 with 1 Axes>"
      ]
     },
     "metadata": {
      "needs_background": "light"
     },
     "output_type": "display_data"
    },
    {
     "name": "stdout",
     "output_type": "stream",
     "text": [
      "Acertou 87.0 %\n"
     ]
    }
   ],
   "source": [
    "from scipy.io import wavfile\n",
    "from extratores import *\n",
    "\n",
    "# Essa lissta tem que estar de acordo com o CSV exportando na etapa de análise de áudio\n",
    "extratores = [\n",
    "    f_media,\n",
    "    f_centro_gravidade,\n",
    "#     f_mediana,\n",
    "#     f_percentil75,\n",
    "#     f_percentil90,\n",
    "    f_percentil99,\n",
    "    f_fluxo_spectral,\n",
    "#    f_dominio_tempo,\n",
    "]\n",
    "\n",
    "certos = 0\n",
    "errados = 0\n",
    "\n",
    "erros = [0] * len(classes)\n",
    "\n",
    "resultados = [0] * len(classes)\n",
    "\n",
    "\n",
    "# deixar os extratores na ordem certa\n",
    "copia = extratores[:]\n",
    "for i,feature in enumerate(treino_desvio_padrao.index):\n",
    "    busca = [f for f in copia if f.__name__ == feature]\n",
    "    extratores[i] = busca[0]\n",
    "\n",
    "raiz = 'validacao'\n",
    "for classe in os.listdir(raiz):\n",
    "    caminho_classe = os.path.join(raiz, classe)\n",
    "    for audio in os.listdir(caminho_classe):\n",
    "        caminho_arquivo = os.path.join(caminho_classe, audio)\n",
    "        \n",
    "        taxa_amostragem, dados = wavfile.read(caminho_arquivo)\n",
    "\n",
    "        # Aplicar os extratores de features\n",
    "        dado = [f(dados) for f in extratores]\n",
    "\n",
    "        # Normalizar para aquelas features\n",
    "        for i in range(len(dado)):\n",
    "            dado[i] = (dado[i] - treino_media[i]) / treino_desvio_padrao[i]\n",
    "    \n",
    "        resultado = predizer(rede, dado)\n",
    "        if classe == classes[resultado]:\n",
    "            certos +=1\n",
    "            resultados[resultado] += 1\n",
    "        else:\n",
    "            errados += 1\n",
    "            erros[classes.index(classe)] += 1\n",
    "            \n",
    "p1 = plt.bar(ind, resultados, 0.5)\n",
    "p2 = plt.bar(ind, erros, 0.3, bottom=resultados)\n",
    "plt.title(\"Erros e acertos no conjunto de validação\")\n",
    "plt.legend((p1[0], p2[0]), ('Certo', 'Errado'))\n",
    "plt.xticks(ind, classes)\n",
    "plt.show()\n",
    "\n",
    "print(\"Acertou %.1f %%\" % (100*certos / (certos + errados)))"
   ]
  },
  {
   "cell_type": "markdown",
   "metadata": {},
   "source": [
    "### Exportação do modelo para arquivo"
   ]
  },
  {
   "cell_type": "markdown",
   "metadata": {},
   "source": [
    "Basta serializar a variável \"rede\" e gravar num arquivo."
   ]
  },
  {
   "cell_type": "code",
   "execution_count": 85,
   "metadata": {},
   "outputs": [],
   "source": [
    "# estas são as variáveis que vamos guardar num arquivo.\n",
    "bundle = {\n",
    "    \"rede\": rede,\n",
    "    \"treino_media\": treino_media,\n",
    "    \"treino_desvio_padrao\": treino_desvio_padrao,\n",
    "    \"classes\": classes\n",
    "}\n",
    "\n",
    "diretorio = \"rede\"\n",
    "\n",
    "if not os.path.exists(diretorio):\n",
    "    os.makedirs(diretorio)\n",
    "    \n",
    "nome = nome_diferente(\"rede\",diretorio, formato=\"pickle\")\n",
    "\n",
    "with open(nome, 'wb') as myf:\n",
    "    myf.write(pickle.dumps(bundle))"
   ]
  },
  {
   "cell_type": "code",
   "execution_count": null,
   "metadata": {},
   "outputs": [],
   "source": []
  },
  {
   "cell_type": "code",
   "execution_count": null,
   "metadata": {},
   "outputs": [],
   "source": []
  },
  {
   "cell_type": "code",
   "execution_count": 89,
   "metadata": {},
   "outputs": [
    {
     "data": {
      "text/plain": [
       "f_centro_gravidade    1381.420054\n",
       "f_fluxo_spectral        17.777649\n",
       "f_media                  0.048442\n",
       "f_percentil99            0.607030\n",
       "dtype: float64"
      ]
     },
     "execution_count": 89,
     "metadata": {},
     "output_type": "execute_result"
    }
   ],
   "source": [
    "treino_media"
   ]
  },
  {
   "cell_type": "code",
   "execution_count": 90,
   "metadata": {},
   "outputs": [
    {
     "data": {
      "text/plain": [
       "f_centro_gravidade    309.975724\n",
       "f_fluxo_spectral       25.846074\n",
       "f_media                 0.054607\n",
       "f_percentil99           1.056119\n",
       "dtype: float64"
      ]
     },
     "execution_count": 90,
     "metadata": {},
     "output_type": "execute_result"
    }
   ],
   "source": [
    "treino_desvio_padrao"
   ]
  },
  {
   "cell_type": "code",
   "execution_count": null,
   "metadata": {},
   "outputs": [],
   "source": []
  },
  {
   "cell_type": "code",
   "execution_count": null,
   "metadata": {},
   "outputs": [],
   "source": []
  },
  {
   "cell_type": "code",
   "execution_count": null,
   "metadata": {},
   "outputs": [],
   "source": []
  },
  {
   "cell_type": "code",
   "execution_count": null,
   "metadata": {},
   "outputs": [],
   "source": []
  },
  {
   "cell_type": "code",
   "execution_count": null,
   "metadata": {},
   "outputs": [],
   "source": []
  },
  {
   "cell_type": "code",
   "execution_count": null,
   "metadata": {},
   "outputs": [],
   "source": []
  },
  {
   "cell_type": "code",
   "execution_count": null,
   "metadata": {},
   "outputs": [],
   "source": []
  },
  {
   "cell_type": "code",
   "execution_count": 19,
   "metadata": {},
   "outputs": [],
   "source": [
    "import os\n",
    "import pickle\n",
    "import queue\n",
    "import pyaudio\n",
    "import pandas as pd\n",
    "import threading\n",
    "import logging\n",
    "import time\n",
    "import matplotlib.pyplot as plt\n",
    "\n",
    "\n",
    "from funcoes import arquivo_mais_recente, get_fft_values\n",
    "from MLP import predizer\n",
    "from extratores import *\n",
    "\n",
    "\"\"\"\n",
    "SETUP\n",
    "\"\"\"\n",
    "\n",
    "raiz_pesos = 'rede'\n",
    "raiz_audios = 'dataset'\n",
    "\n",
    "# Carregando pesos\n",
    "with open(arquivo_mais_recente(raiz_pesos), 'rb') as myf:\n",
    "    bundle = pickle.load(myf)\n",
    "\n",
    "rede = bundle['rede']\n",
    "treino_media = bundle['treino_media']\n",
    "treino_desvio_padrao = bundle['treino_desvio_padrao']\n",
    "\n",
    "# Nomes das classes\n",
    "classes = os.listdir(raiz_audios)\n",
    "\n",
    "# Configurações da leitura de áudio\n",
    "janela_tempo_segundos = 2\n",
    "taxa_amostragem = 8000\n",
    "bloco_amostras = 1000\n",
    "\n",
    "# variáveis globais\n",
    "fila = queue.Queue()\n",
    "audiodata = np.zeros(janela_tempo_segundos * taxa_amostragem)\n",
    "threads_ligadas = True\n",
    "\n",
    "p = pyaudio.PyAudio()\n",
    "stream = p.open(format=pyaudio.paInt16, channels=1, rate=taxa_amostragem, input=True, frames_per_buffer=bloco_amostras)\n",
    "\n",
    "# threads\n",
    "\n",
    "def coletar_audio():\n",
    "    global fila\n",
    "    global stream\n",
    "    global controle_threads\n",
    "    \n",
    "    while threads_ligadas:\n",
    "        data = stream.read(bloco_amostras)\n",
    "        fila.put(np.frombuffer(data, dtype=np.int16))\n",
    "    \n",
    "def atualizar_buffer():\n",
    "    global audiodata\n",
    "    global fila\n",
    "    while threads_ligadas:\n",
    "        while True:\n",
    "            try:\n",
    "                data = fila.get_nowait()\n",
    "            except queue.Empty:\n",
    "                break\n",
    "\n",
    "            audiodata = np.roll(audiodata, -bloco_amostras)\n",
    "            audiodata[-bloco_amostras:] = data\n",
    "        \n",
    "\n",
    "coleta = threading.Thread(target=coletar_audio)\n",
    "\n",
    "atualizacao_buffer = threading.Thread(target=atualizar_buffer)"
   ]
  },
  {
   "cell_type": "code",
   "execution_count": 13,
   "metadata": {},
   "outputs": [],
   "source": [
    "coleta.start()\n",
    "atualizacao_buffer.start()"
   ]
  },
  {
   "cell_type": "code",
   "execution_count": 25,
   "metadata": {},
   "outputs": [
    {
     "data": {
      "text/plain": [
       "[<matplotlib.lines.Line2D at 0x7f3a202b7470>]"
      ]
     },
     "execution_count": 25,
     "metadata": {},
     "output_type": "execute_result"
    },
    {
     "data": {
      "image/png": "[encoded data removed]",
      "text/plain": [
       "<Figure size 432x288 with 1 Axes>"
      ]
     },
     "metadata": {
      "needs_background": "light"
     },
     "output_type": "display_data"
    }
   ],
   "source": [
    "plt.plot(audiodata)"
   ]
  },
  {
   "cell_type": "code",
   "execution_count": 22,
   "metadata": {},
   "outputs": [],
   "source": [
    "dados = audiodata.copy()"
   ]
  },
  {
   "cell_type": "code",
   "execution_count": 26,
   "metadata": {},
   "outputs": [
    {
     "data": {
      "text/plain": [
       "[<matplotlib.lines.Line2D at 0x7f3a2029f550>]"
      ]
     },
     "execution_count": 26,
     "metadata": {},
     "output_type": "execute_result"
    },
    {
     "data": {
      "image/png": "[encoded data removed]",
      "text/plain": [
       "<Figure size 432x288 with 1 Axes>"
      ]
     },
     "metadata": {
      "needs_background": "light"
     },
     "output_type": "display_data"
    }
   ],
   "source": [
    "plt.plot(dados)"
   ]
  },
  {
   "cell_type": "code",
   "execution_count": 20,
   "metadata": {},
   "outputs": [
    {
     "data": {
      "text/plain": [
       "[<function extratores.f_media(dados)>,\n",
       " <function extratores.f_centro_gravidade(dados)>,\n",
       " <function extratores.f_fluxo_spectral(dados)>]"
      ]
     },
     "execution_count": 20,
     "metadata": {},
     "output_type": "execute_result"
    }
   ],
   "source": [
    "extratores"
   ]
  },
  {
   "cell_type": "code",
   "execution_count": null,
   "metadata": {},
   "outputs": [],
   "source": [
    "dado = [f(dados) for f in extratores]\n",
    "dado"
   ]
  },
  {
   "cell_type": "code",
   "execution_count": null,
   "metadata": {},
   "outputs": [],
   "source": []
  }
 ],
 "metadata": {
  "kernelspec": {
   "display_name": "Python 3",
   "language": "python",
   "name": "python3"
  },
  "language_info": {
   "codemirror_mode": {
    "name": "ipython",
    "version": 3
   },
   "file_extension": ".py",
   "mimetype": "text/x-python",
   "name": "python",
   "nbconvert_exporter": "python",
   "pygments_lexer": "ipython3",
   "version": "3.6.7"
  }
 },
 "nbformat": 4,
 "nbformat_minor": 2
}
