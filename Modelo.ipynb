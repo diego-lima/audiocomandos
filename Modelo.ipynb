{
 "cells": [
  {
   "cell_type": "markdown",
   "metadata": {},
   "source": [
    "# Produzindo o modelo\n",
    "\n",
    "Agora, vamos criar e treinar o nosso modelo de fato.\n",
    "\n",
    "Vamos pegar os dados exportados na fase de análise\n",
    "\n",
    "Vamos pegar a MLP desenvolvida\n",
    "\n",
    "Vamos juntar tudo e fazer um modelo que reconhece comandos sonoros."
   ]
  },
  {
   "cell_type": "markdown",
   "metadata": {},
   "source": [
    "### Ler os dados coletados\n",
    "e talvez realizar algum pré-processamento"
   ]
  },
  {
   "cell_type": "code",
   "execution_count": 55,
   "metadata": {},
   "outputs": [
    {
     "data": {
      "text/html": [
       "<div>\n",
       "<style scoped>\n",
       "    .dataframe tbody tr th:only-of-type {\n",
       "        vertical-align: middle;\n",
       "    }\n",
       "\n",
       "    .dataframe tbody tr th {\n",
       "        vertical-align: top;\n",
       "    }\n",
       "\n",
       "    .dataframe thead th {\n",
       "        text-align: right;\n",
       "    }\n",
       "</style>\n",
       "<table border=\"1\" class=\"dataframe\">\n",
       "  <thead>\n",
       "    <tr style=\"text-align: right;\">\n",
       "      <th></th>\n",
       "      <th>classe</th>\n",
       "      <th>f_centro_gravidade</th>\n",
       "      <th>f_fluxo_spectral</th>\n",
       "      <th>f_media</th>\n",
       "    </tr>\n",
       "  </thead>\n",
       "  <tbody>\n",
       "    <tr>\n",
       "      <th>0</th>\n",
       "      <td>2</td>\n",
       "      <td>1744.925171</td>\n",
       "      <td>0.488328</td>\n",
       "      <td>0.047517</td>\n",
       "    </tr>\n",
       "    <tr>\n",
       "      <th>1</th>\n",
       "      <td>2</td>\n",
       "      <td>1794.176401</td>\n",
       "      <td>3.966945</td>\n",
       "      <td>0.053057</td>\n",
       "    </tr>\n",
       "    <tr>\n",
       "      <th>2</th>\n",
       "      <td>2</td>\n",
       "      <td>1808.564724</td>\n",
       "      <td>10.632117</td>\n",
       "      <td>0.059772</td>\n",
       "    </tr>\n",
       "    <tr>\n",
       "      <th>3</th>\n",
       "      <td>2</td>\n",
       "      <td>1787.310829</td>\n",
       "      <td>5.098251</td>\n",
       "      <td>0.050345</td>\n",
       "    </tr>\n",
       "    <tr>\n",
       "      <th>4</th>\n",
       "      <td>2</td>\n",
       "      <td>1746.282903</td>\n",
       "      <td>4.936092</td>\n",
       "      <td>0.052391</td>\n",
       "    </tr>\n",
       "    <tr>\n",
       "      <th>5</th>\n",
       "      <td>2</td>\n",
       "      <td>1786.192982</td>\n",
       "      <td>1.453105</td>\n",
       "      <td>0.094307</td>\n",
       "    </tr>\n",
       "    <tr>\n",
       "      <th>6</th>\n",
       "      <td>2</td>\n",
       "      <td>1695.063751</td>\n",
       "      <td>1.270188</td>\n",
       "      <td>0.047092</td>\n",
       "    </tr>\n",
       "    <tr>\n",
       "      <th>7</th>\n",
       "      <td>2</td>\n",
       "      <td>1794.379078</td>\n",
       "      <td>0.890205</td>\n",
       "      <td>0.069452</td>\n",
       "    </tr>\n",
       "    <tr>\n",
       "      <th>8</th>\n",
       "      <td>2</td>\n",
       "      <td>1746.265699</td>\n",
       "      <td>3.542589</td>\n",
       "      <td>0.056585</td>\n",
       "    </tr>\n",
       "    <tr>\n",
       "      <th>9</th>\n",
       "      <td>2</td>\n",
       "      <td>1767.632394</td>\n",
       "      <td>0.765272</td>\n",
       "      <td>0.076983</td>\n",
       "    </tr>\n",
       "    <tr>\n",
       "      <th>10</th>\n",
       "      <td>0</td>\n",
       "      <td>1426.821268</td>\n",
       "      <td>0.806827</td>\n",
       "      <td>0.094864</td>\n",
       "    </tr>\n",
       "    <tr>\n",
       "      <th>11</th>\n",
       "      <td>0</td>\n",
       "      <td>1248.012891</td>\n",
       "      <td>1.586956</td>\n",
       "      <td>0.038653</td>\n",
       "    </tr>\n",
       "    <tr>\n",
       "      <th>12</th>\n",
       "      <td>0</td>\n",
       "      <td>1381.969627</td>\n",
       "      <td>2.060081</td>\n",
       "      <td>0.132571</td>\n",
       "    </tr>\n",
       "    <tr>\n",
       "      <th>13</th>\n",
       "      <td>0</td>\n",
       "      <td>1277.945069</td>\n",
       "      <td>1.283669</td>\n",
       "      <td>0.099316</td>\n",
       "    </tr>\n",
       "    <tr>\n",
       "      <th>14</th>\n",
       "      <td>0</td>\n",
       "      <td>1223.642437</td>\n",
       "      <td>5.203798</td>\n",
       "      <td>0.134672</td>\n",
       "    </tr>\n",
       "    <tr>\n",
       "      <th>15</th>\n",
       "      <td>0</td>\n",
       "      <td>1147.125538</td>\n",
       "      <td>2.522820</td>\n",
       "      <td>0.108084</td>\n",
       "    </tr>\n",
       "    <tr>\n",
       "      <th>16</th>\n",
       "      <td>0</td>\n",
       "      <td>1427.910627</td>\n",
       "      <td>0.346023</td>\n",
       "      <td>0.085670</td>\n",
       "    </tr>\n",
       "    <tr>\n",
       "      <th>17</th>\n",
       "      <td>0</td>\n",
       "      <td>1385.895618</td>\n",
       "      <td>1.695399</td>\n",
       "      <td>0.129766</td>\n",
       "    </tr>\n",
       "    <tr>\n",
       "      <th>18</th>\n",
       "      <td>0</td>\n",
       "      <td>1226.383658</td>\n",
       "      <td>1.915529</td>\n",
       "      <td>0.090511</td>\n",
       "    </tr>\n",
       "    <tr>\n",
       "      <th>19</th>\n",
       "      <td>0</td>\n",
       "      <td>1240.685107</td>\n",
       "      <td>1.681527</td>\n",
       "      <td>0.042276</td>\n",
       "    </tr>\n",
       "    <tr>\n",
       "      <th>20</th>\n",
       "      <td>1</td>\n",
       "      <td>1763.078395</td>\n",
       "      <td>105.106328</td>\n",
       "      <td>0.281041</td>\n",
       "    </tr>\n",
       "    <tr>\n",
       "      <th>21</th>\n",
       "      <td>1</td>\n",
       "      <td>1534.295467</td>\n",
       "      <td>34.158598</td>\n",
       "      <td>0.055502</td>\n",
       "    </tr>\n",
       "    <tr>\n",
       "      <th>22</th>\n",
       "      <td>1</td>\n",
       "      <td>1623.319621</td>\n",
       "      <td>66.977617</td>\n",
       "      <td>0.149065</td>\n",
       "    </tr>\n",
       "    <tr>\n",
       "      <th>23</th>\n",
       "      <td>1</td>\n",
       "      <td>1571.472187</td>\n",
       "      <td>99.793556</td>\n",
       "      <td>0.100698</td>\n",
       "    </tr>\n",
       "    <tr>\n",
       "      <th>24</th>\n",
       "      <td>1</td>\n",
       "      <td>1585.102350</td>\n",
       "      <td>112.797870</td>\n",
       "      <td>0.122162</td>\n",
       "    </tr>\n",
       "    <tr>\n",
       "      <th>25</th>\n",
       "      <td>1</td>\n",
       "      <td>1565.378913</td>\n",
       "      <td>81.861691</td>\n",
       "      <td>0.123161</td>\n",
       "    </tr>\n",
       "    <tr>\n",
       "      <th>26</th>\n",
       "      <td>1</td>\n",
       "      <td>1721.879656</td>\n",
       "      <td>141.577914</td>\n",
       "      <td>0.114874</td>\n",
       "    </tr>\n",
       "    <tr>\n",
       "      <th>27</th>\n",
       "      <td>1</td>\n",
       "      <td>1695.557159</td>\n",
       "      <td>14.795291</td>\n",
       "      <td>0.097969</td>\n",
       "    </tr>\n",
       "    <tr>\n",
       "      <th>28</th>\n",
       "      <td>1</td>\n",
       "      <td>1712.345729</td>\n",
       "      <td>48.408312</td>\n",
       "      <td>0.065775</td>\n",
       "    </tr>\n",
       "    <tr>\n",
       "      <th>29</th>\n",
       "      <td>1</td>\n",
       "      <td>1618.263544</td>\n",
       "      <td>22.720785</td>\n",
       "      <td>0.104072</td>\n",
       "    </tr>\n",
       "  </tbody>\n",
       "</table>\n",
       "</div>"
      ],
      "text/plain": [
       "    classe  f_centro_gravidade  f_fluxo_spectral   f_media\n",
       "0        2         1744.925171          0.488328  0.047517\n",
       "1        2         1794.176401          3.966945  0.053057\n",
       "2        2         1808.564724         10.632117  0.059772\n",
       "3        2         1787.310829          5.098251  0.050345\n",
       "4        2         1746.282903          4.936092  0.052391\n",
       "5        2         1786.192982          1.453105  0.094307\n",
       "6        2         1695.063751          1.270188  0.047092\n",
       "7        2         1794.379078          0.890205  0.069452\n",
       "8        2         1746.265699          3.542589  0.056585\n",
       "9        2         1767.632394          0.765272  0.076983\n",
       "10       0         1426.821268          0.806827  0.094864\n",
       "11       0         1248.012891          1.586956  0.038653\n",
       "12       0         1381.969627          2.060081  0.132571\n",
       "13       0         1277.945069          1.283669  0.099316\n",
       "14       0         1223.642437          5.203798  0.134672\n",
       "15       0         1147.125538          2.522820  0.108084\n",
       "16       0         1427.910627          0.346023  0.085670\n",
       "17       0         1385.895618          1.695399  0.129766\n",
       "18       0         1226.383658          1.915529  0.090511\n",
       "19       0         1240.685107          1.681527  0.042276\n",
       "20       1         1763.078395        105.106328  0.281041\n",
       "21       1         1534.295467         34.158598  0.055502\n",
       "22       1         1623.319621         66.977617  0.149065\n",
       "23       1         1571.472187         99.793556  0.100698\n",
       "24       1         1585.102350        112.797870  0.122162\n",
       "25       1         1565.378913         81.861691  0.123161\n",
       "26       1         1721.879656        141.577914  0.114874\n",
       "27       1         1695.557159         14.795291  0.097969\n",
       "28       1         1712.345729         48.408312  0.065775\n",
       "29       1         1618.263544         22.720785  0.104072"
      ]
     },
     "execution_count": 55,
     "metadata": {},
     "output_type": "execute_result"
    }
   ],
   "source": [
    "import pandas as pd\n",
    "import os\n",
    "import subprocess\n",
    "import pickle\n",
    "\n",
    "from funcoes import arquivo_mais_recente, nome_diferente\n",
    "from math import inf as infinito\n",
    "\n",
    "# ignorar warnings\n",
    "import warnings\n",
    "warnings.filterwarnings('ignore')\n",
    "\n",
    "# pegar o CSV mais recente no diretório 'csv'\n",
    "arquivo = arquivo_mais_recente('csv')\n",
    "assert os.path.isfile(arquivo)\n",
    "\n",
    "dataset = pd.read_csv(arquivo)\n",
    "\n",
    "dataset"
   ]
  },
  {
   "cell_type": "markdown",
   "metadata": {},
   "source": [
    "Para saber que número pertence a que classe:"
   ]
  },
  {
   "cell_type": "code",
   "execution_count": 39,
   "metadata": {},
   "outputs": [
    {
     "name": "stdout",
     "output_type": "stream",
     "text": [
      "0: assobio_agudo\n",
      "1: assobio_grave\n",
      "2: palmas\n",
      "3: ruido_sedis\n"
     ]
    }
   ],
   "source": [
    "raiz = 'dataset'\n",
    "\n",
    "classes = os.listdir(raiz)\n",
    "\n",
    "for i,classe in enumerate(classes):\n",
    "    print(\"%d: %s\" % (i, classe))"
   ]
  },
  {
   "cell_type": "markdown",
   "metadata": {},
   "source": [
    "### Dividindo os dados coletados em conjunto de treino e teste balanceados"
   ]
  },
  {
   "cell_type": "code",
   "execution_count": 40,
   "metadata": {},
   "outputs": [],
   "source": [
    "# Que porcentagem dos dados vamos pegar para treino\n",
    "fracao_treino = 0.7\n",
    "\n",
    "dados_treino = pd.DataFrame()\n",
    "dados_teste = pd.DataFrame()\n",
    "\n",
    "for classe in dataset['classe'].unique():\n",
    "    # só pegar dados dessa classe\n",
    "    dados = dataset.loc[dataset['classe'] == classe]\n",
    "    \n",
    "    treino = dados.sample(frac=fracao_treino)\n",
    "    teste = dados.drop(treino.index)\n",
    "    \n",
    "    dados_treino = dados_treino.append(treino)\n",
    "    dados_teste = dados_teste.append(teste)\n"
   ]
  },
  {
   "cell_type": "markdown",
   "metadata": {},
   "source": [
    "###  Normalizando e dividindo em features e target"
   ]
  },
  {
   "cell_type": "code",
   "execution_count": 41,
   "metadata": {},
   "outputs": [
    {
     "data": {
      "text/plain": [
       "array([[ 8.03930970e-01, -5.70558686e-01, -7.94286137e-01],\n",
       "       [ 9.92459291e-01, -5.67110286e-01, -8.31712558e-01],\n",
       "       [ 1.09012353e+00, -4.49429181e-01, -6.59201821e-01],\n",
       "       [ 8.03851918e-01, -6.00192392e-01, -7.17534283e-01],\n",
       "       [ 1.02400743e+00, -5.91168199e-01, -7.82089259e-01],\n",
       "       [ 5.68572726e-01, -6.48516409e-01, -8.91256033e-01],\n",
       "       [ 1.02493876e+00, -6.56596974e-01, -4.82044534e-01],\n",
       "       [-6.59028439e-01, -6.68169354e-01, -1.85257157e-01],\n",
       "       [-6.64034175e-01, -6.58370078e-01, -1.70050341e-02],\n",
       "       [-1.94927014e+00, -6.21878422e-01,  2.24932335e-01],\n",
       "       [-8.52092523e-01, -6.39474032e-01,  6.21725731e-01],\n",
       "       [-1.59766566e+00, -5.64865748e-01,  7.11507902e-01],\n",
       "       [-1.48568046e+00, -6.41780146e-01, -1.04569266e+00],\n",
       "       [-1.51935252e+00, -6.39769024e-01, -9.79386335e-01],\n",
       "       [ 8.81108304e-01,  1.55962351e+00,  3.39015477e+00],\n",
       "       [-2.73449104e-02,  1.06531188e+00,  5.00847443e-01],\n",
       "       [ 5.70839997e-01, -3.60896707e-01,  3.98253946e-02],\n",
       "       [ 2.38899707e-01,  7.48792824e-01,  9.74917686e-01],\n",
       "       [ 6.32866874e-02,  1.72318891e+00,  4.82576981e-01],\n",
       "       [ 6.91795080e-01,  2.33521440e+00,  3.49206006e-01],\n",
       "       [ 6.54428695e-04,  1.44664412e+00,  8.97715663e-02]])"
      ]
     },
     "execution_count": 41,
     "metadata": {},
     "output_type": "execute_result"
    }
   ],
   "source": [
    "\"\"\"\n",
    "Treino\n",
    "\"\"\"\n",
    "# Pegando as respostas\n",
    "labels_treino = dados_treino['classe'].as_matrix()\n",
    "\n",
    "treino_media = dados_treino.loc[:, dados_treino.columns != 'classe'].mean()\n",
    "treino_desvio_padrao = dados_treino.loc[:, dados_treino.columns != 'classe'].std()\n",
    "# Fazendo standardization: subtrai a média e divide pelo desvio padrão\n",
    "dados_treino = (dados_treino - dados_treino.mean()) / dados_treino.std()\n",
    "# Remove a coluna 'classe' e transforma em matriz\n",
    "dados_treino = dados_treino.loc[:, dados_treino.columns != 'classe'].as_matrix()\n",
    "\n",
    "\"\"\"\n",
    "Teste\n",
    "\"\"\"\n",
    "# Pegando as respostas\n",
    "labels_teste = dados_teste['classe'].as_matrix()\n",
    "# Fazendo standardization: subtrai a média e divide pelo desvio padrão\n",
    "dados_teste = (dados_teste - dados_teste.mean()) / dados_teste.std()\n",
    "# Remove a coluna 'classe' e transforma em matriz\n",
    "dados_teste = dados_teste.loc[:, dados_teste.columns != 'classe'].as_matrix()\n",
    "\n",
    "dados_treino"
   ]
  },
  {
   "cell_type": "markdown",
   "metadata": {},
   "source": [
    "### Configurando o modelo"
   ]
  },
  {
   "cell_type": "code",
   "execution_count": 42,
   "metadata": {},
   "outputs": [],
   "source": [
    "# quantidade de neurônios na camada de entrada\n",
    "tam_entrada = len(dados_treino[0])\n",
    "\n",
    "# quantidade de neurônios na camada de saída\n",
    "tam_saida = len(set(labels_treino))\n",
    "\n",
    "# Quantos neurônios tem em cada camada (sem contar o bias)\n",
    "formato_rede = [tam_entrada, tam_saida, tam_saida]\n",
    "\n",
    "# Variação mínima do erro como critério de parada\n",
    "delta_erro_minimo = 0.00001\n",
    "\n",
    "# Número máximo de iterações\n",
    "max_iteracoes = 10000"
   ]
  },
  {
   "cell_type": "code",
   "execution_count": 43,
   "metadata": {},
   "outputs": [],
   "source": [
    "# atualizando o código dentro de MLP.py, que é extraído de MLP.ipynb\n",
    "subprocess.Popen(['ipython', 'nbconvert', '--to=python', 'MLP.ipynb'])\n",
    "\n",
    "from MLP import *"
   ]
  },
  {
   "cell_type": "markdown",
   "metadata": {},
   "source": [
    "### Treinamento"
   ]
  },
  {
   "cell_type": "code",
   "execution_count": 44,
   "metadata": {},
   "outputs": [
    {
     "name": "stdout",
     "output_type": "stream",
     "text": [
      "erro inicial:  0.6332132675618725\n",
      "erro medio:  0.6332132675618725\n",
      "\n",
      "erro final:  0.0016611090185609783\n"
     ]
    }
   ],
   "source": [
    "rede = gerar_rede(formato_rede)\n",
    "\n",
    "erro_anterior = infinito\n",
    "\n",
    "for _ in range(max_iteracoes):\n",
    "    erros = []\n",
    "\n",
    "    for dado in range(len(dados_treino)):\n",
    "        # Atualizar os pesos: joga dados[dado] na entrada, e propaga o erro\n",
    "        # pra ajustar os pesos\n",
    "        rede = forward_backward(rede, dados_treino[dado], one_hot(labels_treino[dado], tam_saida))\n",
    "\n",
    "        # com os novos pesos, vamos ver o que ele prediz\n",
    "        I, Y = forward(rede, dados_treino[dado])\n",
    "        d = one_hot(labels_treino[dado], tam_saida)\n",
    "\n",
    "        # vamos guardar o erro entre o que ele previu e o que é pra ser\n",
    "        erros.append(erro_total(Y[-1], d))\n",
    "\n",
    "    # erro médio\n",
    "    erro = sum(erros)/len(erros)\n",
    "    \n",
    "    if _ == 0:\n",
    "        print(\"erro inicial: \", erro)\n",
    "        \n",
    "    if _ % (max_iteracoes / 10) == 0:\n",
    "        print(\"erro medio: \", erro)\n",
    "        \n",
    "    if abs(erro - erro_anterior) <= delta_erro_minimo:\n",
    "        break\n",
    "        \n",
    "    erro_anterior = erro\n",
    "        \n",
    "print(\"\\nerro final: \",erro)"
   ]
  },
  {
   "cell_type": "markdown",
   "metadata": {},
   "source": [
    "### Testes"
   ]
  },
  {
   "cell_type": "code",
   "execution_count": 53,
   "metadata": {},
   "outputs": [
    {
     "data": {
      "image/png": "[encoded data removed]",
      "text/plain": [
       "<Figure size 432x288 with 1 Axes>"
      ]
     },
     "metadata": {
      "needs_background": "light"
     },
     "output_type": "display_data"
    },
    {
     "name": "stdout",
     "output_type": "stream",
     "text": [
      "Acertou 88.9 %\n"
     ]
    }
   ],
   "source": [
    "certos = 0\n",
    "errados = 0\n",
    "\n",
    "erros = []\n",
    "\n",
    "resultados = []\n",
    "\n",
    "for i in range(len(dados_teste)):\n",
    "    # vamos ver o que ele prediz\n",
    "    resultado = predizer(rede, dados_teste[i])\n",
    "    resultados.append(resultado)\n",
    "    if resultado == labels_teste[i]:\n",
    "        certos +=1\n",
    "    else:\n",
    "        errados +=1\n",
    "        erros.append([dados_teste[i], classes[resultado], classes[labels_teste[i]]])\n",
    "\n",
    "plt.hist(resultados)\n",
    "plt.title(\"Distribuição das respostas dadas pela MLP\")\n",
    "plt.show()\n",
    "\n",
    "print(\"Acertou %.1f %%\" % (100*certos / (certos + errados)))\n",
    "\n"
   ]
  },
  {
   "cell_type": "code",
   "execution_count": 54,
   "metadata": {},
   "outputs": [
    {
     "data": {
      "text/plain": [
       "[[array([ 1.03512217, -0.61579053,  0.34348645]), 'assobio_grave', 'palmas']]"
      ]
     },
     "execution_count": 54,
     "metadata": {},
     "output_type": "execute_result"
    }
   ],
   "source": [
    "erros"
   ]
  },
  {
   "cell_type": "code",
   "execution_count": 48,
   "metadata": {},
   "outputs": [
    {
     "data": {
      "text/plain": [
       "'palmas'"
      ]
     },
     "execution_count": 48,
     "metadata": {},
     "output_type": "execute_result"
    }
   ],
   "source": [
    "from scipy.io import wavfile\n",
    "from extratores import *\n",
    "\n",
    "# deixar os extratores na ordem certa\n",
    "copia = extratores[:]\n",
    "for i,feature in enumerate(treino_desvio_padrao.index):\n",
    "    busca = [f for f in copia if f.__name__ == feature]\n",
    "    extratores[i] = busca[0]\n",
    "\n",
    "teste = \"teste/teste-1.wav\"\n",
    "taxa_amostragem, dados = wavfile.read(teste)\n",
    "\n",
    "# Aplicar os extratores de features\n",
    "dado = [f(dados) for f in extratores]\n",
    "\n",
    "# Normalizar para aquelas features\n",
    "for i in range(len(dado)):\n",
    "    dado[i] = (dado[i] - treino_media[i]) / treino_desvio_padrao[i]\n",
    "    \n",
    "resultado = predizer(rede, dado)\n",
    "classes[resultado]"
   ]
  },
  {
   "cell_type": "markdown",
   "metadata": {},
   "source": [
    "### Exportação do modelo para arquivo"
   ]
  },
  {
   "cell_type": "markdown",
   "metadata": {},
   "source": [
    "Basta serializar a variável \"rede\" e gravar num arquivo."
   ]
  },
  {
   "cell_type": "code",
   "execution_count": 37,
   "metadata": {},
   "outputs": [],
   "source": [
    "# estas são as variáveis que vamos guardar num arquivo.\n",
    "bundle = {\n",
    "    \"rede\": rede,\n",
    "    \"treino_media\": treino_media,\n",
    "    \"treino_desvio_padrao\": treino_desvio_padrao,\n",
    "    \"classes\": classes\n",
    "}\n",
    "\n",
    "diretorio = \"rede\"\n",
    "\n",
    "if not os.path.exists(diretorio):\n",
    "    os.makedirs(diretorio)\n",
    "    \n",
    "nome = nome_diferente(\"rede\",diretorio, formato=\"pickle\")\n",
    "\n",
    "with open(nome, 'wb') as myf:\n",
    "    myf.write(pickle.dumps(bundle))"
   ]
  },
  {
   "cell_type": "code",
   "execution_count": 25,
   "metadata": {},
   "outputs": [
    {
     "ename": "SyntaxError",
     "evalue": "invalid syntax (<ipython-input-25-45305c017861>, line 1)",
     "output_type": "error",
     "traceback": [
      "\u001b[0;36m  File \u001b[0;32m\"<ipython-input-25-45305c017861>\"\u001b[0;36m, line \u001b[0;32m1\u001b[0m\n\u001b[0;31m    treino_desvio_padrao.index/\u001b[0m\n\u001b[0m                               ^\u001b[0m\n\u001b[0;31mSyntaxError\u001b[0m\u001b[0;31m:\u001b[0m invalid syntax\n"
     ]
    }
   ],
   "source": [
    "treino_desvio_padrao.index/"
   ]
  },
  {
   "cell_type": "code",
   "execution_count": 26,
   "metadata": {},
   "outputs": [],
   "source": [
    "a = [1,2]\n",
    "b = a"
   ]
  },
  {
   "cell_type": "code",
   "execution_count": null,
   "metadata": {},
   "outputs": [],
   "source": []
  },
  {
   "cell_type": "code",
   "execution_count": null,
   "metadata": {},
   "outputs": [],
   "source": []
  },
  {
   "cell_type": "code",
   "execution_count": null,
   "metadata": {},
   "outputs": [],
   "source": []
  },
  {
   "cell_type": "code",
   "execution_count": null,
   "metadata": {},
   "outputs": [],
   "source": []
  },
  {
   "cell_type": "code",
   "execution_count": null,
   "metadata": {},
   "outputs": [],
   "source": []
  },
  {
   "cell_type": "code",
   "execution_count": null,
   "metadata": {},
   "outputs": [],
   "source": []
  },
  {
   "cell_type": "code",
   "execution_count": null,
   "metadata": {},
   "outputs": [],
   "source": []
  },
  {
   "cell_type": "code",
   "execution_count": null,
   "metadata": {},
   "outputs": [],
   "source": []
  },
  {
   "cell_type": "code",
   "execution_count": null,
   "metadata": {},
   "outputs": [],
   "source": []
  },
  {
   "cell_type": "code",
   "execution_count": null,
   "metadata": {},
   "outputs": [],
   "source": []
  },
  {
   "cell_type": "code",
   "execution_count": null,
   "metadata": {},
   "outputs": [],
   "source": []
  },
  {
   "cell_type": "code",
   "execution_count": null,
   "metadata": {},
   "outputs": [],
   "source": []
  },
  {
   "cell_type": "code",
   "execution_count": 19,
   "metadata": {},
   "outputs": [],
   "source": [
    "import os\n",
    "import pickle\n",
    "import queue\n",
    "import pyaudio\n",
    "import pandas as pd\n",
    "import threading\n",
    "import logging\n",
    "import time\n",
    "import matplotlib.pyplot as plt\n",
    "\n",
    "\n",
    "from funcoes import arquivo_mais_recente, get_fft_values\n",
    "from MLP import predizer\n",
    "from extratores import *\n",
    "\n",
    "\"\"\"\n",
    "SETUP\n",
    "\"\"\"\n",
    "\n",
    "raiz_pesos = 'rede'\n",
    "raiz_audios = 'dataset'\n",
    "\n",
    "# Carregando pesos\n",
    "with open(arquivo_mais_recente(raiz_pesos), 'rb') as myf:\n",
    "    bundle = pickle.load(myf)\n",
    "\n",
    "rede = bundle['rede']\n",
    "treino_media = bundle['treino_media']\n",
    "treino_desvio_padrao = bundle['treino_desvio_padrao']\n",
    "\n",
    "# Nomes das classes\n",
    "classes = os.listdir(raiz_audios)\n",
    "\n",
    "# Configurações da leitura de áudio\n",
    "janela_tempo_segundos = 2\n",
    "taxa_amostragem = 8000\n",
    "bloco_amostras = 1000\n",
    "\n",
    "# variáveis globais\n",
    "fila = queue.Queue()\n",
    "audiodata = np.zeros(janela_tempo_segundos * taxa_amostragem)\n",
    "threads_ligadas = True\n",
    "\n",
    "p = pyaudio.PyAudio()\n",
    "stream = p.open(format=pyaudio.paInt16, channels=1, rate=taxa_amostragem, input=True, frames_per_buffer=bloco_amostras)\n",
    "\n",
    "# threads\n",
    "\n",
    "def coletar_audio():\n",
    "    global fila\n",
    "    global stream\n",
    "    global controle_threads\n",
    "    \n",
    "    while threads_ligadas:\n",
    "        data = stream.read(bloco_amostras)\n",
    "        fila.put(np.frombuffer(data, dtype=np.int16))\n",
    "    \n",
    "def atualizar_buffer():\n",
    "    global audiodata\n",
    "    global fila\n",
    "    while threads_ligadas:\n",
    "        while True:\n",
    "            try:\n",
    "                data = fila.get_nowait()\n",
    "            except queue.Empty:\n",
    "                break\n",
    "\n",
    "            audiodata = np.roll(audiodata, -bloco_amostras)\n",
    "            audiodata[-bloco_amostras:] = data\n",
    "        \n",
    "\n",
    "coleta = threading.Thread(target=coletar_audio)\n",
    "\n",
    "atualizacao_buffer = threading.Thread(target=atualizar_buffer)"
   ]
  },
  {
   "cell_type": "code",
   "execution_count": 13,
   "metadata": {},
   "outputs": [],
   "source": [
    "coleta.start()\n",
    "atualizacao_buffer.start()"
   ]
  },
  {
   "cell_type": "code",
   "execution_count": 25,
   "metadata": {},
   "outputs": [
    {
     "data": {
      "text/plain": [
       "[<matplotlib.lines.Line2D at 0x7f3a202b7470>]"
      ]
     },
     "execution_count": 25,
     "metadata": {},
     "output_type": "execute_result"
    },
    {
     "data": {
      "image/png": "[encoded data removed]",
      "text/plain": [
       "<Figure size 432x288 with 1 Axes>"
      ]
     },
     "metadata": {
      "needs_background": "light"
     },
     "output_type": "display_data"
    }
   ],
   "source": [
    "plt.plot(audiodata)"
   ]
  },
  {
   "cell_type": "code",
   "execution_count": 22,
   "metadata": {},
   "outputs": [],
   "source": [
    "dados = audiodata.copy()"
   ]
  },
  {
   "cell_type": "code",
   "execution_count": 26,
   "metadata": {},
   "outputs": [
    {
     "data": {
      "text/plain": [
       "[<matplotlib.lines.Line2D at 0x7f3a2029f550>]"
      ]
     },
     "execution_count": 26,
     "metadata": {},
     "output_type": "execute_result"
    },
    {
     "data": {
      "image/png": "[encoded data removed]",
      "text/plain": [
       "<Figure size 432x288 with 1 Axes>"
      ]
     },
     "metadata": {
      "needs_background": "light"
     },
     "output_type": "display_data"
    }
   ],
   "source": [
    "plt.plot(dados)"
   ]
  },
  {
   "cell_type": "code",
   "execution_count": 20,
   "metadata": {},
   "outputs": [
    {
     "data": {
      "text/plain": [
       "[<function extratores.f_media(dados)>,\n",
       " <function extratores.f_centro_gravidade(dados)>,\n",
       " <function extratores.f_fluxo_spectral(dados)>]"
      ]
     },
     "execution_count": 20,
     "metadata": {},
     "output_type": "execute_result"
    }
   ],
   "source": [
    "extratores"
   ]
  },
  {
   "cell_type": "code",
   "execution_count": null,
   "metadata": {},
   "outputs": [],
   "source": [
    "dado = [f(dados) for f in extratores]\n",
    "dado"
   ]
  },
  {
   "cell_type": "code",
   "execution_count": null,
   "metadata": {},
   "outputs": [],
   "source": []
  }
 ],
 "metadata": {
  "kernelspec": {
   "display_name": "Python 3",
   "language": "python",
   "name": "python3"
  },
  "language_info": {
   "codemirror_mode": {
    "name": "ipython",
    "version": 3
   },
   "file_extension": ".py",
   "mimetype": "text/x-python",
   "name": "python",
   "nbconvert_exporter": "python",
   "pygments_lexer": "ipython3",
   "version": "3.6.7"
  }
 },
 "nbformat": 4,
 "nbformat_minor": 2
}
