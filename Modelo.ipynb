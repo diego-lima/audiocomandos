{
 "cells": [
  {
   "cell_type": "markdown",
   "metadata": {},
   "source": [
    "# Produzindo o modelo\n",
    "\n",
    "Agora, vamos criar e treinar o nosso modelo de fato.\n",
    "\n",
    "Vamos pegar os dados exportados na fase de análise\n",
    "\n",
    "Vamos pegar a MLP desenvolvida\n",
    "\n",
    "Vamos juntar tudo e fazer um modelo que reconhece comandos sonoros."
   ]
  },
  {
   "cell_type": "markdown",
   "metadata": {},
   "source": [
    "### Ler os dados coletados"
   ]
  },
  {
   "cell_type": "code",
   "execution_count": 1,
   "metadata": {},
   "outputs": [
    {
     "data": {
      "text/html": [
       "<div>\n",
       "<style scoped>\n",
       "    .dataframe tbody tr th:only-of-type {\n",
       "        vertical-align: middle;\n",
       "    }\n",
       "\n",
       "    .dataframe tbody tr th {\n",
       "        vertical-align: top;\n",
       "    }\n",
       "\n",
       "    .dataframe thead th {\n",
       "        text-align: right;\n",
       "    }\n",
       "</style>\n",
       "<table border=\"1\" class=\"dataframe\">\n",
       "  <thead>\n",
       "    <tr style=\"text-align: right;\">\n",
       "      <th></th>\n",
       "      <th>classe</th>\n",
       "      <th>f_centro_gravidade</th>\n",
       "      <th>f_media</th>\n",
       "      <th>f_percentil99</th>\n",
       "    </tr>\n",
       "  </thead>\n",
       "  <tbody>\n",
       "    <tr>\n",
       "      <th>0</th>\n",
       "      <td>0</td>\n",
       "      <td>1767.632394</td>\n",
       "      <td>0.158133</td>\n",
       "      <td>2.054805</td>\n",
       "    </tr>\n",
       "    <tr>\n",
       "      <th>1</th>\n",
       "      <td>0</td>\n",
       "      <td>1787.310829</td>\n",
       "      <td>0.048239</td>\n",
       "      <td>0.996071</td>\n",
       "    </tr>\n",
       "    <tr>\n",
       "      <th>2</th>\n",
       "      <td>1</td>\n",
       "      <td>1712.345729</td>\n",
       "      <td>0.111894</td>\n",
       "      <td>0.219335</td>\n",
       "    </tr>\n",
       "    <tr>\n",
       "      <th>3</th>\n",
       "      <td>2</td>\n",
       "      <td>1277.945069</td>\n",
       "      <td>0.250273</td>\n",
       "      <td>2.840464</td>\n",
       "    </tr>\n",
       "    <tr>\n",
       "      <th>4</th>\n",
       "      <td>1</td>\n",
       "      <td>1565.378913</td>\n",
       "      <td>0.348646</td>\n",
       "      <td>0.538169</td>\n",
       "    </tr>\n",
       "  </tbody>\n",
       "</table>\n",
       "</div>"
      ],
      "text/plain": [
       "   classe  f_centro_gravidade   f_media  f_percentil99\n",
       "0       0         1767.632394  0.158133       2.054805\n",
       "1       0         1787.310829  0.048239       0.996071\n",
       "2       1         1712.345729  0.111894       0.219335\n",
       "3       2         1277.945069  0.250273       2.840464\n",
       "4       1         1565.378913  0.348646       0.538169"
      ]
     },
     "execution_count": 1,
     "metadata": {},
     "output_type": "execute_result"
    }
   ],
   "source": [
    "import pandas as pd\n",
    "import os\n",
    "import subprocess\n",
    "\n",
    "from funcoes import arquivo_mais_recente\n",
    "from math import inf as infinito\n",
    "\n",
    "# ignorar warnings\n",
    "import warnings\n",
    "warnings.filterwarnings('ignore')\n",
    "\n",
    "# pegar o CSV mais recente no diretório 'csv'\n",
    "arquivo = arquivo_mais_recente('csv')\n",
    "assert os.path.isfile(arquivo)\n",
    "\n",
    "dataset = pd.read_csv(arquivo)\n",
    "\n",
    "# fazendo um shuffle nos dados, pra ficar em ordem aleatória\n",
    "dataset = dataset.sample(frac=1).reset_index(drop=True)\n",
    "\n",
    "dataset.head()"
   ]
  },
  {
   "cell_type": "code",
   "execution_count": 2,
   "metadata": {},
   "outputs": [],
   "source": [
    "# tirando a coluna 'classe' e convertendo para matriz\n",
    "dados = dataset.loc[:, dataset.columns != 'classe'].as_matrix()\n",
    "\n",
    "labels = dataset['classe'].as_matrix()"
   ]
  },
  {
   "cell_type": "markdown",
   "metadata": {},
   "source": [
    "### Configurando o modelo"
   ]
  },
  {
   "cell_type": "code",
   "execution_count": 14,
   "metadata": {},
   "outputs": [],
   "source": [
    "# quantidade de neurônios na camada de entrada\n",
    "tam_entrada = len(dados[0])\n",
    "\n",
    "# quantidade de neurônios na camada de saída\n",
    "tam_saida = len(set(labels))\n",
    "\n",
    "# Quantos neurônios tem em cada camada (sem contar o bias)\n",
    "formato_rede = [tam_entrada, tam_saida, tam_saida]\n",
    "\n",
    "# Variação mínima do erro como critério de parada\n",
    "delta_erro_minimo = 0.00001\n",
    "\n",
    "# Número máximo de iterações\n",
    "max_iteracoes = 10000"
   ]
  },
  {
   "cell_type": "code",
   "execution_count": 4,
   "metadata": {},
   "outputs": [],
   "source": [
    "# atualizando o código dentro de MLP.py, que é extraído de MLP.ipynb\n",
    "subprocess.Popen(['ipython', 'nbconvert', '--to=python', 'MLP.ipynb'])\n",
    "\n",
    "from MLP import *"
   ]
  },
  {
   "cell_type": "markdown",
   "metadata": {},
   "source": [
    "### Treinamento"
   ]
  },
  {
   "cell_type": "code",
   "execution_count": 15,
   "metadata": {},
   "outputs": [
    {
     "name": "stdout",
     "output_type": "stream",
     "text": [
      "erro inicial:  0.6360468167787555\n",
      "erro medio:  0.6360468167787555\n",
      "\n",
      "erro final:  0.6314143964843996\n"
     ]
    }
   ],
   "source": [
    "rede = gerar_rede(formato_rede)\n",
    "\n",
    "erro_anterior = infinito\n",
    "\n",
    "for _ in range(max_iteracoes):\n",
    "    erros = []\n",
    "\n",
    "    for dado in range(len(dados)):\n",
    "        # Atualizar os pesos: joga dados[dado] na entrada, e propaga o erro\n",
    "        # pra ajustar os pesos\n",
    "        rede = forward_backward(rede, dados[dado], one_hot(labels[dado], tam_saida))\n",
    "\n",
    "        # com os novos pesos, vamos ver o que ele prediz\n",
    "        I, Y = forward(rede, dados[dado])\n",
    "        d = one_hot(labels[dado], tam_saida)\n",
    "\n",
    "        # vamos guardar o erro entre o que ele previu e o que é pra ser\n",
    "        erros.append(erro_total(Y[-1], d))\n",
    "\n",
    "    erro = sum(erros)/len(erros)\n",
    "    \n",
    "    if _ == 0:\n",
    "        print(\"erro inicial: \", erro)\n",
    "    if _ % (max_iteracoes / 10) == 0:\n",
    "        print(\"erro medio: \", erro)\n",
    "        \n",
    "    if abs(erro - erro_anterior) <= delta_erro_minimo:\n",
    "        break\n",
    "        \n",
    "    erro_anterior = erro\n",
    "        \n",
    "print(\"\\nerro final: \",erro)"
   ]
  },
  {
   "cell_type": "markdown",
   "metadata": {},
   "source": [
    "### Testes"
   ]
  },
  {
   "cell_type": "code",
   "execution_count": 29,
   "metadata": {},
   "outputs": [
    {
     "data": {
      "image/png": "[encoded data removed]",
      "text/plain": [
       "<Figure size 432x288 with 1 Axes>"
      ]
     },
     "metadata": {
      "needs_background": "light"
     },
     "output_type": "display_data"
    },
    {
     "name": "stdout",
     "output_type": "stream",
     "text": [
      "Acertou 33.3 %\n"
     ]
    }
   ],
   "source": [
    "certos = 0\n",
    "errados = 0\n",
    "\n",
    "resultados = []\n",
    "\n",
    "for i in range(len(dados)):\n",
    "    # vamos ver o que ele prediz\n",
    "    resultado = predizer(rede, dados[i])\n",
    "    resultados.append(resultado)\n",
    "    if resultado == labels[i]:\n",
    "        certos +=1\n",
    "    else:\n",
    "        errados +=1\n",
    "\n",
    "# plt.figure(figsize=(1,1))\n",
    "plt.hist(resultados)\n",
    "plt.title(\"Distribuição das respostas dadas pela MLP\")\n",
    "plt.show()\n",
    "\n",
    "print(\"Acertou %.1f %%\" % (100*certos / (certos + errados)))\n",
    "\n"
   ]
  },
  {
   "cell_type": "code",
   "execution_count": 26,
   "metadata": {},
   "outputs": [
    {
     "data": {
      "image/png": "[encoded data removed]",
      "text/plain": [
       "<Figure size 72x72 with 1 Axes>"
      ]
     },
     "metadata": {
      "needs_background": "light"
     },
     "output_type": "display_data"
    }
   ],
   "source": [
    "plt.figure(figsize=(1,1))\n",
    "plt.hist(resultados)\n",
    "plt.show()"
   ]
  },
  {
   "cell_type": "code",
   "execution_count": null,
   "metadata": {},
   "outputs": [],
   "source": []
  }
 ],
 "metadata": {
  "kernelspec": {
   "display_name": "Python 3",
   "language": "python",
   "name": "python3"
  },
  "language_info": {
   "codemirror_mode": {
    "name": "ipython",
    "version": 3
   },
   "file_extension": ".py",
   "mimetype": "text/x-python",
   "name": "python",
   "nbconvert_exporter": "python",
   "pygments_lexer": "ipython3",
   "version": "3.6.7"
  }
 },
 "nbformat": 4,
 "nbformat_minor": 2
}
